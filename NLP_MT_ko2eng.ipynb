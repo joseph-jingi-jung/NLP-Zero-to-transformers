{
  "cells": [
    {
      "cell_type": "code",
      "execution_count": 1,
      "metadata": {
        "colab": {
          "base_uri": "https://localhost:8080/"
        },
        "id": "Z3bri_6SL_EU",
        "outputId": "695be9a9-041d-4559-a782-18f50b097af4"
      },
      "outputs": [
        {
          "output_type": "stream",
          "name": "stdout",
          "text": [
            "Mounted at /content/drive\n"
          ]
        }
      ],
      "source": [
        "import torch\n",
        "import torch.nn as nn\n",
        "import pandas as pd\n",
        "import numpy as np\n",
        "from torch.utils.data import TensorDataset, DataLoader, random_split\n",
        "import os\n",
        "\n",
        "try:\n",
        "  from google.colab import drive\n",
        "  IN_COLAB = True\n",
        "  drive.mount('/content/drive')\n",
        "except:\n",
        "  IN_COLAB = False\n"
      ]
    },
    {
      "cell_type": "code",
      "execution_count": 2,
      "metadata": {
        "colab": {
          "base_uri": "https://localhost:8080/"
        },
        "id": "w7LIlbP4L_EX",
        "outputId": "d40e0210-5484-42e6-f3a7-8d0bd67db483"
      },
      "outputs": [
        {
          "output_type": "stream",
          "name": "stdout",
          "text": [
            "(801387,)\n",
            "(801387,)\n"
          ]
        }
      ],
      "source": [
        "if IN_COLAB:\n",
        "    data_path = \"/content/drive/MyDrive/Colab Notebooks/dataset/ko2eng\"\n",
        "else:\n",
        "    data_path = \"dataset/ko2eng\"\n",
        "\n",
        "x = np.array([])\n",
        "y = np.array([])\n",
        "\n",
        "for fname in sorted(os.listdir(data_path)):\n",
        "    src_input_ids = os.path.join(data_path, fname)\n",
        "    df = pd.read_excel(src_input_ids)\n",
        "    x = np.concatenate((x, df['원문'].values))\n",
        "    y = np.concatenate((y, df['번역문'].values))\n",
        "\n",
        "print(x.shape)\n",
        "print(y.shape)"
      ]
    },
    {
      "cell_type": "code",
      "execution_count": 3,
      "metadata": {
        "colab": {
          "base_uri": "https://localhost:8080/"
        },
        "id": "Zn8_iNBpL_EY",
        "outputId": "5b233fd4-8036-4790-afc3-da1441b10d4f"
      },
      "outputs": [
        {
          "output_type": "stream",
          "name": "stdout",
          "text": [
            "x max: 220\n",
            "x mean: 69.15487149155152\n",
            "x median: 71.0\n",
            "freq top 5: [[   70 18371]\n",
            " [   68 18287]\n",
            " [   69 18245]\n",
            " [   71 18199]\n",
            " [   73 17843]]\n",
            "y max: 706\n",
            "y mean: 173.24487170368374\n",
            "y median: 174.0\n",
            "freq top 5: [[ 171 5306]\n",
            " [ 179 5263]\n",
            " [ 181 5254]\n",
            " [ 175 5238]\n",
            " [ 183 5222]]\n"
          ]
        }
      ],
      "source": [
        "x_len_array = [len(sentence) for sentence in x]\n",
        "y_len_array = [len(sentence) for sentence in y]\n",
        "\n",
        "unique_x, counts_x = np.unique(x_len_array, return_counts=True)\n",
        "freq_x = np.column_stack((unique_x, counts_x))\n",
        "sorted_freq_x = freq_x[freq_x[:, 1].argsort()[::-1]]\n",
        "\n",
        "unique_y, counts_y = np.unique(y_len_array, return_counts=True)\n",
        "freq_y = np.column_stack((unique_y, counts_y))\n",
        "sorted_freq_y = freq_y[freq_y[:, 1].argsort()[::-1]]\n",
        "\n",
        "print(\"x max:\", np.max(x_len_array))\n",
        "print(\"x mean:\", np.mean(x_len_array))\n",
        "print(\"x median:\", np.median(x_len_array))\n",
        "print(\"freq top 5:\", sorted_freq_x[:5])\n",
        "\n",
        "print(\"y max:\", np.max(y_len_array))\n",
        "print(\"y mean:\", np.mean(y_len_array))\n",
        "print(\"y median:\", np.median(y_len_array))\n",
        "print(\"freq top 5:\", sorted_freq_y[:5])"
      ]
    },
    {
      "cell_type": "code",
      "execution_count": 4,
      "metadata": {
        "colab": {
          "base_uri": "https://localhost:8080/"
        },
        "id": "2iSbVNY-L_EZ",
        "outputId": "744c67b3-ec56-4b64-d2db-af0ab13e5a9a"
      },
      "outputs": [
        {
          "output_type": "stream",
          "name": "stdout",
          "text": [
            "y_100 max: 99\n",
            "x_100 max: 98\n",
            "['스키너가 말한 보상은 대부분 눈으로 볼 수 있는 현물이다.' '심지어 어떤 문제가 발생할 건지도 어느 정도 예측이 가능하다.'\n",
            " '오직 하나님만이 그 이유를 제대로 알 수 있을 겁니다.' ...\n",
            " '그물추는 그물이 물속에 쉽게 가라앉도록 그물 끝에 매다는 돌이다.'\n",
            " '우리가 하고 싶은 것을 다하면, 능력에서 좋은 선수들이 많으니 잘 할 수 있도록 도와줄 것이다.'\n",
            " '조금이라도 더 알려고, 조금이라도 더 느끼려고 다가가는 발걸음이 지금 우리가 할 수 있는 최선인 셈이다.']\n",
            "[\"Skinner's reward is mostly eye-watering.\"\n",
            " 'Even some problems can be predicted.' 'Only God will exactly know why.'\n",
            " ...\n",
            " 'Net lead is a stone that hangs at the end of a net so that the net can sink easily in the water.'\n",
            " 'If we do what we want to do, there are a lot of good players in that we will help them do well.'\n",
            " 'The best thing we can do now is to trying get to know a little bit more and feel a little bit more.']\n",
            "138934\n",
            "138934\n"
          ]
        }
      ],
      "source": [
        "y_len_np = np.array(y_len_array)\n",
        "x_len_np = np.array(x_len_array)\n",
        "\n",
        "max_len_condition = 100\n",
        "condition = (y_len_np < max_len_condition) & (x_len_np < max_len_condition)\n",
        "print(f\"y_{max_len_condition} max:\", np.max(y_len_np[condition]))\n",
        "print(f\"x_{max_len_condition} max:\", np.max(x_len_np[condition]))\n",
        "\n",
        "x_max_condition = x[condition]\n",
        "y_max_condition = y[condition]\n",
        "\n",
        "print(x_max_condition)\n",
        "print(y_max_condition)\n",
        "print(len(x_max_condition))\n",
        "print(len(y_max_condition))\n"
      ]
    },
    {
      "cell_type": "code",
      "execution_count": 5,
      "metadata": {
        "colab": {
          "base_uri": "https://localhost:8080/"
        },
        "id": "ZyYQUD2wL_Ea",
        "outputId": "d5fb8b52-4b4d-44e9-e6b2-e06b2424ac94"
      },
      "outputs": [
        {
          "output_type": "stream",
          "name": "stdout",
          "text": [
            "스키너가 말한 보상은 대부분 눈으로 볼 수 있는 현물이다.\n",
            "['스', '##키', '##너', '##가', '말한', '보상', '##은', '대부분', '눈', '##으로', '볼', '수', '있는', '현', '##물이', '##다', '.', '[PAD]', '[PAD]', '[PAD]', '[PAD]', '[PAD]', '[PAD]', '[PAD]', '[PAD]', '[PAD]', '[PAD]', '[PAD]', '[PAD]', '[PAD]', '[PAD]', '[PAD]', '[PAD]', '[PAD]', '[PAD]', '[PAD]', '[PAD]', '[PAD]', '[PAD]', '[PAD]', '[PAD]', '[PAD]', '[PAD]', '[PAD]', '[PAD]', '[PAD]', '[PAD]', '[PAD]', '[PAD]', '[PAD]', '[PAD]', '[PAD]', '[PAD]', '[PAD]', '[PAD]', '[PAD]', '[PAD]', '[PAD]', '[PAD]', '[PAD]', '[PAD]', '[PAD]', '[PAD]', '[PAD]', '[PAD]', '[PAD]', '[PAD]', '[PAD]', '[PAD]', '[PAD]', '[PAD]', '[PAD]', '[PAD]', '[PAD]', '[PAD]', '[PAD]', '[PAD]', '[PAD]', '[PAD]', '[PAD]', '[PAD]', '[PAD]', '[PAD]', '[PAD]', '[PAD]', '[PAD]', '[PAD]', '[PAD]', '[PAD]', '[PAD]', '[PAD]', '[PAD]', '[PAD]', '[PAD]', '[PAD]', '[PAD]', '[PAD]', '[PAD]', '[PAD]', '[PAD]']\n",
            "[1047, 2014, 2247, 1862, 9512, 9307, 1904, 3813, 414, 3415, 859, 1019, 3428, 1767, 3752, 1838, 14, 0, 0, 0, 0, 0, 0, 0, 0, 0, 0, 0, 0, 0, 0, 0, 0, 0, 0, 0, 0, 0, 0, 0, 0, 0, 0, 0, 0, 0, 0, 0, 0, 0, 0, 0, 0, 0, 0, 0, 0, 0, 0, 0, 0, 0, 0, 0, 0, 0, 0, 0, 0, 0, 0, 0, 0, 0, 0, 0, 0, 0, 0, 0, 0, 0, 0, 0, 0, 0, 0, 0, 0, 0, 0, 0, 0, 0, 0, 0, 0, 0, 0, 0]\n",
            "스키너가 말한 보상은 대부분 눈으로 볼 수 있는 현물이다.\n",
            "Skinner's reward is mostly eye-watering.\n",
            "['S', '##ki', '##n', '##ner', \"'\", 's', 'reward', 'is', 'mostly', 'eye', '-', 'water', '##ing', '.']\n",
            "[53, 7472, 156, 1268, 10, 84, 6416, 286, 4822, 2081, 16, 1397, 283, 17]\n",
            "Skinner ' s reward is mostly eye - watering.\n"
          ]
        }
      ],
      "source": [
        "from tokenizers import Tokenizer, decoders, models, normalizers, pre_tokenizers, trainers, processors\n",
        "\n",
        "\n",
        "def train_tokenizer(src, vocab_size, special_token, max_len, padding=False):\n",
        "    tokenizer = Tokenizer(models.WordPiece())\n",
        "    tokenizer.normalizer = normalizers.NFKC()\n",
        "    tokenizer.pre_tokenizer = pre_tokenizers.Whitespace()\n",
        "    tokenizer.decoder = decoders.WordPiece()\n",
        "    token_trainer = trainers.WordPieceTrainer(\n",
        "        vocab_size = vocab_size,\n",
        "        special_tokens=special_token,\n",
        "        show_progress=True,\n",
        "    )\n",
        "\n",
        "    tokenizer.train_from_iterator(src, trainer=token_trainer)\n",
        "    tokenizer.enable_truncation(max_len)\n",
        "    if padding:\n",
        "        tokenizer.enable_padding(length=max_len)\n",
        "\n",
        "    return tokenizer\n",
        "\n",
        "\n",
        "\n",
        "# [\"[PAD]\", \"[UNK]\", \"[BOS]\", \"[EOS]\"]\n",
        "vocab_size = 10000\n",
        "special_token = [\"[PAD]\", \"[UNK]\", \"[BOS]\", \"[EOS]\"]\n",
        "max_len = max_len_condition\n",
        "src_tokenizer = train_tokenizer(x_max_condition, vocab_size, special_token, max_len, True)\n",
        "tgt_tokenizer = train_tokenizer(y_max_condition, vocab_size, special_token, max_len)\n",
        "\n",
        "print(x_max_condition[0])\n",
        "temp = src_tokenizer.encode(x_max_condition[0])\n",
        "print(temp.tokens)\n",
        "print(temp.ids)\n",
        "print(src_tokenizer.decode(temp.ids))\n",
        "\n",
        "print(y_max_condition[0])\n",
        "temp = tgt_tokenizer.encode(y_max_condition[0])\n",
        "print(temp.tokens)\n",
        "print(temp.ids)\n",
        "print(tgt_tokenizer.decode(temp.ids))"
      ]
    },
    {
      "cell_type": "code",
      "source": [
        "def get_decoder_data(tokenizer, entry, max_len, eos_token=True, bos_token=False):\n",
        "\n",
        "    tokens = tokenizer.encode(entry).ids\n",
        "    if eos_token:\n",
        "        tokens.append(3) # 3:'[EOS]'\n",
        "    if bos_token:\n",
        "        tokens.insert(0, 2) # 2:'[BOS]'\n",
        "    tokens.extend((max_len - len(tokens))*[0])\n",
        "    return tokens\n",
        "\n",
        "\n",
        "print(get_decoder_data(tgt_tokenizer, y_max_condition[0], max_len, True, True))"
      ],
      "metadata": {
        "colab": {
          "base_uri": "https://localhost:8080/"
        },
        "id": "et5vUJ1j9jyZ",
        "outputId": "490fd7c2-5d9e-47b7-b751-f1710015abb6"
      },
      "execution_count": 6,
      "outputs": [
        {
          "output_type": "stream",
          "name": "stdout",
          "text": [
            "[2, 53, 7472, 156, 1268, 10, 84, 6416, 286, 4822, 2081, 16, 1397, 283, 17, 3, 0, 0, 0, 0, 0, 0, 0, 0, 0, 0, 0, 0, 0, 0, 0, 0, 0, 0, 0, 0, 0, 0, 0, 0, 0, 0, 0, 0, 0, 0, 0, 0, 0, 0, 0, 0, 0, 0, 0, 0, 0, 0, 0, 0, 0, 0, 0, 0, 0, 0, 0, 0, 0, 0, 0, 0, 0, 0, 0, 0, 0, 0, 0, 0, 0, 0, 0, 0, 0, 0, 0, 0, 0, 0, 0, 0, 0, 0, 0, 0, 0, 0, 0, 0]\n"
          ]
        }
      ]
    },
    {
      "cell_type": "code",
      "execution_count": 7,
      "metadata": {
        "id": "zF28KGIR32hW"
      },
      "outputs": [],
      "source": [
        "encoder_input_ids = torch.tensor(np.array([src_tokenizer.encode(entry).ids for entry in x_max_condition]))\n",
        "decoder_input_ids = torch.tensor(np.array([get_decoder_data(tgt_tokenizer, entry, max_len, True, True) for entry in y_max_condition]))\n",
        "decoder_target_ids = torch.tensor(np.array([get_decoder_data(tgt_tokenizer, entry, max_len, True, False) for entry in y_max_condition]))\n",
        "\n",
        "dataset = TensorDataset(encoder_input_ids, decoder_input_ids, decoder_target_ids)\n",
        "train_dataset, val_dataset, test_dataset = random_split(dataset=dataset, lengths=[0.7, 0.15, 0.15])"
      ]
    },
    {
      "cell_type": "code",
      "execution_count": 8,
      "metadata": {
        "id": "Cf3hfxUhL_Eb"
      },
      "outputs": [],
      "source": [
        "batch_size = 64\n",
        "train_dl = DataLoader(train_dataset, batch_size=batch_size, shuffle=True)\n",
        "val_dl = DataLoader(val_dataset, batch_size=batch_size, shuffle=False)\n",
        "test_dl = DataLoader(test_dataset, batch_size=batch_size, shuffle=False)"
      ]
    },
    {
      "cell_type": "code",
      "execution_count": 9,
      "metadata": {
        "id": "Q7gKqj4nL_Eb"
      },
      "outputs": [],
      "source": [
        "import math\n",
        "\n",
        "class TransformerModel(nn.Module):\n",
        "    def __init__(self, config) -> None:\n",
        "        super().__init__()\n",
        "        self.d_model = config['d_model'] if 'd_model' in config else 512\n",
        "        self.n_head = config['n_head'] if 'n_head' in config else 8\n",
        "        self.n_encoder = config['n_encoder'] if 'n_encoder' in config else 6\n",
        "        self.n_decoder = config['n_decoder'] if 'n_decoder' in config else 6\n",
        "        self.hidden_size = config['hidden_size'] if 'hidden_size' in config else 512\n",
        "        self.seq_len = config['seq_len']\n",
        "        self.device = config['device']\n",
        "\n",
        "        self.src_embed = nn.Embedding(config['src_vocab_size'], embedding_dim=self.d_model)\n",
        "        self.tgt_embed = nn.Embedding(config['tgt_vocab_size'], embedding_dim=self.d_model)\n",
        "\n",
        "\n",
        "        self.pos_embed = PositionalEncoding(d_model=self.d_model, device=self.device)\n",
        "        self.padding_mask = PaddingMask(pad_id=config['pad_id'])\n",
        "\n",
        "        self.transformer = nn.Transformer(\n",
        "            d_model=self.d_model,\n",
        "            nhead=self.n_head,\n",
        "            num_encoder_layers=self.n_encoder,\n",
        "            num_decoder_layers=self.n_decoder,\n",
        "        )\n",
        "\n",
        "        # tgt_mask : [dec_seq, dec_seq] : 출력 Sequence Attention Mask (Trm decoding을 위한 계단식 MASK)\n",
        "        # tgt_mask 입력 길이 L에 대한 (L X L) mask 생성. torch.triu 사용. (생성된 값만 보게끔 하는 부분)\n",
        "        self.tgt_mask = torch.triu(torch.ones(self.seq_len, self.seq_len), diagonal=1).bool().to(self.device)\n",
        "\n",
        "        self.projection_layer_1 = nn.Linear(self.d_model, self.hidden_size)\n",
        "        self.activation = nn.GELU()\n",
        "        self.projection_layer_2 = nn.Linear(self.hidden_size, config['tgt_vocab_size'])\n",
        "\n",
        "\n",
        "    def forward(self, src_input_ids, tgt_input_ids,\n",
        "                src_key_padding_mask = None, tgt_key_padding_mask = None):\n",
        "\n",
        "        # src_input_ids: (batch, seq_len)\n",
        "        # target_input_ids: (batch, seq_len)\n",
        "\n",
        "        encoder_input_feature = self.src_embed(src_input_ids)\n",
        "        # encoder_input_feuatre: (batch, seq_len, embedding)\n",
        "        encoder_input_feature = encoder_input_feature.transpose(0, 1)\n",
        "        # pos_embed worked based on seq_len, batch, embeding\n",
        "        encoder_input_feature = self.pos_embed(encoder_input_feature)\n",
        "\n",
        "        # same as encoder input handling\n",
        "        decoder_input_feature = self.tgt_embed(tgt_input_ids)\n",
        "        decoder_input_feature = decoder_input_feature.transpose(0, 1)\n",
        "        decoder_input_feature = self.pos_embed(decoder_input_feature)\n",
        "\n",
        "        # src : [enc_seq, batch, hidden]\n",
        "        # tgt : [dec_seq, batch, hidden]\n",
        "\n",
        "        # src_mask : [enc_seq, enc_seq] : 입력 Sequence Attention Mask (일반적으로 사용하지 않음)\n",
        "\n",
        "\n",
        "        # src_key_padding_mask : [batch, enc_seq] : 입력 Padding Mask\n",
        "        src_key_padding_mask = self.padding_mask(src_input_ids)\n",
        "\n",
        "        # tgt_key_padding_mask : [batch, dec_seq] : 출력 Padding Mask\n",
        "        tgt_key_padding_mask = self.padding_mask(tgt_input_ids)\n",
        "\n",
        "        # src_mask는 일반적으로 구현 x\n",
        "        # src_key_padding_mask : masked_fill 이용해서 생성\n",
        "        # tgt_key_padding_mask\n",
        "\n",
        "        out = self.transformer(encoder_input_feature, decoder_input_feature,\n",
        "                               src_mask=None, tgt_mask=self.tgt_mask,\n",
        "                               src_key_padding_mask=src_key_padding_mask,\n",
        "                               tgt_key_padding_mask=tgt_key_padding_mask,)\n",
        "\n",
        "        out = self.projection_layer_1(out)\n",
        "        out = self.activation(out)\n",
        "        out = self.projection_layer_2(out)\n",
        "\n",
        "        return out\n",
        "\n",
        "class PositionalEncoding(nn.Module):\n",
        "    def __init__(self, d_model, device, dropout: float = 0.1, max_len: int = 5000) -> None:\n",
        "        super().__init__()\n",
        "        self.d_model = d_model\n",
        "        self.dropout = nn.Dropout(p=dropout)\n",
        "\n",
        "        position = torch.arange(max_len).unsqueeze(1)\n",
        "        div_term = torch.exp(torch.arange(0, d_model, 2) * (-math.log(10000.0) / d_model))\n",
        "        pe = torch.zeros(max_len, 1, d_model)\n",
        "        pe[:, 0, 0::2] = torch.sin(position * div_term)\n",
        "        pe[:, 0, 1::2] = torch.cos(position * div_term)\n",
        "        pe = pe.to(device)\n",
        "        self.register_buffer('pe', pe)\n",
        "\n",
        "    def forward(self, x):\n",
        "        x = x + self.pe[:x.size(0)]\n",
        "        return self.dropout(x)\n",
        "\n",
        "class PaddingMask(nn.Module):\n",
        "    def __init__(self, pad_id) -> None:\n",
        "        super().__init__()\n",
        "        self.pad_id = pad_id\n",
        "\n",
        "    def forward(self, x):\n",
        "        return x.masked_fill(x == self.pad_id, 1).masked_fill(x != self.pad_id, 0).bool()\n"
      ]
    },
    {
      "cell_type": "code",
      "execution_count": 10,
      "metadata": {
        "id": "gP3bTZBQL_Ec"
      },
      "outputs": [],
      "source": [
        "import io\n",
        "from tqdm import tqdm\n",
        "\n",
        "class Trainer():\n",
        "    def __init__(self, config, model, train_dl, val_dl, test_dl, criterion, optimizer, src_tokenizer, tgt_tokenizer) -> None:\n",
        "        self.model_name = model.__class__.__name__\n",
        "        self.config = config\n",
        "        self.model = model\n",
        "        self.train_dl = train_dl\n",
        "        self.val_dl = val_dl\n",
        "        self.test_dl = test_dl\n",
        "        self.criterion = criterion\n",
        "        self.optimizer = optimizer\n",
        "\n",
        "        self.device = config['device'] if 'device' in config else \"cpu\"\n",
        "        self.num_of_epoch = config['epoch'] if 'epoch' in config else 10\n",
        "        self.lr = config['learning_rate'] if 'learning_rate' in config else 1e-2\n",
        "        self.patience = config['patience'] if 'patience' in config else 5\n",
        "        self.output_dir = config['output'] if 'output' in config else \"output/\"\n",
        "        self.src_tokenizer = src_tokenizer\n",
        "        self.tgt_tokenizer = tgt_tokenizer\n",
        "        self.seq_len = config['seq_len']\n",
        "\n",
        "    def train(self):\n",
        "        train_loss_history = []\n",
        "        val_loss_history = []\n",
        "\n",
        "        self.model = self.model.to(self.device)\n",
        "        best_epoch = 0\n",
        "        best_loss = np.inf\n",
        "        epochs_no_improve = 0\n",
        "        buffer = io.BytesIO()\n",
        "\n",
        "\n",
        "        for epoch in range(self.num_of_epoch):\n",
        "            self.model.train()\n",
        "            epoch_loss = 0\n",
        "            total_count = 0\n",
        "            pbar = tqdm(self.train_dl, desc=f\"epoch[{epoch+1}]\")\n",
        "\n",
        "            for step, batch in enumerate(pbar):\n",
        "                encoder_input_ids = batch[0].to(self.device)\n",
        "                decoder_input_ids = batch[1].to(self.device)\n",
        "                decoder_target_ids = batch[2].to(self.device)\n",
        "\n",
        "                self.optimizer.zero_grad()\n",
        "                pred = self.model(encoder_input_ids, decoder_input_ids)\n",
        "\n",
        "                # y_pred ( seq_len, batch, feature_num )\n",
        "                pred_compare = torch.reshape(pred, (-1, pred.shape[-1]))\n",
        "                # y ( batch, seq_len )\n",
        "                target = decoder_target_ids.transpose(0, 1)\n",
        "                target = torch.reshape(target, (-1,))\n",
        "\n",
        "                loss = self.criterion(pred_compare, target)\n",
        "                epoch_loss += loss.item() * target.shape[0]\n",
        "                loss.backward()\n",
        "                self.optimizer.step()\n",
        "\n",
        "                total_count += target.shape[0]\n",
        "                pbar.set_postfix_str(f\"loss={loss.item():.5f}\")\n",
        "\n",
        "            epoch_loss_mean = epoch_loss / total_count\n",
        "            val_loss_mean = self.validation()\n",
        "\n",
        "\n",
        "            train_loss_history.append(epoch_loss_mean)\n",
        "            val_loss_history.append(val_loss_mean)\n",
        "\n",
        "            if val_loss_mean < best_loss:\n",
        "                best_loss = val_loss_mean\n",
        "                epochs_no_improve = 0\n",
        "\n",
        "                buffer.seek(0)\n",
        "                buffer.truncate()\n",
        "                torch.save(self.model.state_dict(), buffer)\n",
        "                buffer.seek(0)\n",
        "            else:\n",
        "                epochs_no_improve += 1\n",
        "\n",
        "            if epochs_no_improve >= self.patience:\n",
        "                print(f'Early stopping at epoch {epoch}')\n",
        "                break\n",
        "\n",
        "            output_path = os.path.join(self.output_dir, f\"{self.model_name}_ep_{epoch}_loss_{epoch_loss_mean:.4f}_lr_{self.config['learning_rate']}.pt\")\n",
        "            print(output_path)\n",
        "            torch.save(self.model.state_dict(), output_path)\n",
        "            with open(output_path, mode='wb') as f:\n",
        "                f.write(buffer.getbuffer())\n",
        "\n",
        "        return (train_loss_history, val_loss_history), output_path\n",
        "\n",
        "    def validation(self):\n",
        "        self.model.eval()\n",
        "        epoch_loss = 0\n",
        "        total_count = 0\n",
        "        pbar = tqdm(self.val_dl, desc=f\"validation \")\n",
        "        with torch.no_grad():\n",
        "            for step, batch in enumerate(pbar):\n",
        "                encoder_input_ids = batch[0].to(self.device)\n",
        "                decoder_input_ids = batch[1].to(self.device)\n",
        "                decoder_target_ids = batch[2].to(self.device)\n",
        "\n",
        "                pred = self.model(encoder_input_ids, decoder_input_ids)\n",
        "                # pred ( seq_len, batch, feature_num )\n",
        "                pred_compare = torch.reshape(pred, (-1, pred.shape[-1]))\n",
        "                # target ( batch, seq_len )\n",
        "                target = decoder_target_ids.transpose(0, 1)\n",
        "                target = torch.reshape(target, (-1,))\n",
        "\n",
        "                loss = self.criterion(pred_compare, target)\n",
        "                epoch_loss += loss.item() * target.shape[0]\n",
        "                total_count += target.shape[0]\n",
        "\n",
        "                if step % 100 == 0:\n",
        "                    decoder_input_ids = torch.zeros(encoder_input_ids.shape).long()\n",
        "                    decoder_input_ids[:,0] = self.tgt_tokenizer.token_to_id(\"[BOS]\")\n",
        "                    decoder_input_ids = decoder_input_ids.to(self.device)\n",
        "\n",
        "                    encoder_input_id = encoder_input_ids[0].unsqueeze(0)\n",
        "                    decoder_input_id = decoder_input_ids[0].unsqueeze(0)\n",
        "                    for i in range(self.seq_len -1):\n",
        "                        pred = self.model(encoder_input_id, decoder_input_id)\n",
        "                        # pred (seq_len, batch, feature_num )\n",
        "                        pred = torch.argmax(pred, dim=-1)\n",
        "                        pred = pred.transpose(0, 1)\n",
        "                        # pred (batch, seq_len)\n",
        "                        decoder_input_id[:,i+1] = pred[:,i]\n",
        "                        if pred[0,i] == self.tgt_tokenizer.token_to_id('[EOS]'):\n",
        "                            break\n",
        "                    print()\n",
        "                    print(\"== inference check ==\")\n",
        "                    print(\"target :\", self.tgt_tokenizer.decode(decoder_target_ids[0].detach().cpu().numpy()))\n",
        "                    print(\"inference result:\", self.tgt_tokenizer.decode(decoder_input_id[0].detach().cpu().numpy()))\n",
        "\n",
        "        epoch_loss_mean = epoch_loss / total_count\n",
        "        return epoch_loss_mean\n",
        "\n",
        "    def test(self):\n",
        "        self.model.eval()\n",
        "        pbar = tqdm(self.val_dl, desc=f\"test \")\n",
        "        with torch.no_grad():\n",
        "            for step, batch in enumerate(pbar):\n",
        "                encoder_input_ids = batch[0].to(self.device)\n",
        "                # decoder_input_ids = batch[1].to(self.device)\n",
        "                decoder_target_ids = batch[2].to(self.device)\n",
        "                decoder_input_ids = torch.zeros(encoder_input_ids.shape).long()\n",
        "                decoder_input_ids[:,0] = self.tgt_tokenizer.token_to_id(\"[BOS]\")\n",
        "                decoder_input_ids = decoder_input_ids.to(self.device)\n",
        "\n",
        "                for i in range(self.config['seq_len'] -1):\n",
        "                    pred = self.model(encoder_input_ids, decoder_input_ids)\n",
        "                    # pred (seq_len, batch, feature_num )\n",
        "                    pred = torch.argmax(pred, dim=-1)\n",
        "                    pred = pred.transpose(0, 1)\n",
        "                    # pred (batch, seq_len)\n",
        "                    decoder_input_ids[:,i+1] = pred[:,i]\n",
        "\n",
        "                result = decoder_input_ids.detach().cpu().numpy()\n",
        "                for i in range(result.shape[0]):\n",
        "                    print()\n",
        "                    print(\"input:\", self.src_tokenizer.decode(encoder_input_ids[i].detach().cpu().numpy()))\n",
        "                    print(\"target:\", self.tgt_tokenizer.decode(decoder_target_ids[i].detach().cpu().numpy()))\n",
        "                    print(\"inference:\", self.tgt_tokenizer.decode(result[i]))\n",
        "                break\n",
        "\n",
        "\n"
      ]
    },
    {
      "cell_type": "code",
      "execution_count": 11,
      "metadata": {
        "colab": {
          "base_uri": "https://localhost:8080/"
        },
        "id": "BO5HP4jUL_Ed",
        "outputId": "e2dc6102-f69f-4aef-b53a-f30f92c4e1f4"
      },
      "outputs": [
        {
          "output_type": "stream",
          "name": "stderr",
          "text": [
            "/usr/local/lib/python3.10/dist-packages/torch/nn/modules/transformer.py:306: UserWarning: enable_nested_tensor is True, but self.use_nested_tensor is False because encoder_layer.self_attn.batch_first was not True(use batch_first for better inference performance)\n",
            "  warnings.warn(f\"enable_nested_tensor is True, but self.use_nested_tensor is False because {why_not_sparsity_fast_path}\")\n"
          ]
        }
      ],
      "source": [
        "import datetime\n",
        "\n",
        "if IN_COLAB:\n",
        "    output_base = \"/content/drive/MyDrive/Colab Notebooks/results/transformer-ko2eng\"\n",
        "else:\n",
        "    output_base = \"output/transformer-ko2en\"\n",
        "current_date = datetime.datetime.now().strftime(\"%Y%m%d%H%M%S\")\n",
        "output_dir = os.path.join(output_base, current_date)\n",
        "os.makedirs(output_dir, exist_ok=True)\n",
        "\n",
        "config = {\n",
        "    'batch_size':batch_size,\n",
        "    'src_vocab_size':src_tokenizer.get_vocab_size(),\n",
        "    'tgt_vocab_size':tgt_tokenizer.get_vocab_size(),\n",
        "    'd_model':256,\n",
        "    'n_head':4,\n",
        "    'n_encoder':6,\n",
        "    'n_decoder':6,\n",
        "    'hidden_size':512,\n",
        "    'pad_id':0,\n",
        "    'dropout':0.1,\n",
        "    'device': 'cuda' if torch.cuda.is_available() else \"cpu\",\n",
        "    'epoch': 50,\n",
        "    'learning_rate':1e-4,\n",
        "    'seq_len':max_len,\n",
        "    'output':output_dir\n",
        "}\n",
        "\n",
        "model = TransformerModel(config)\n",
        "criterion = nn.CrossEntropyLoss()\n",
        "optimizer = torch.optim.AdamW(model.parameters(), lr=1e-4, weight_decay=0.01)\n",
        "trainer = Trainer(config, model, train_dl, val_dl, test_dl, criterion, optimizer, src_tokenizer, tgt_tokenizer)\n"
      ]
    },
    {
      "cell_type": "code",
      "source": [
        "trainer = Trainer(config, model, train_dl, val_dl, test_dl, criterion, optimizer, src_tokenizer, tgt_tokenizer)\n",
        "(train_loss_history, val_loss_history), output_path = trainer.train()"
      ],
      "metadata": {
        "colab": {
          "base_uri": "https://localhost:8080/"
        },
        "id": "edCa8lsy88sp",
        "outputId": "05be1e0c-245a-48c6-c628-cf968cbe6463"
      },
      "execution_count": 58,
      "outputs": [
        {
          "metadata": {
            "tags": null
          },
          "name": "stderr",
          "output_type": "stream",
          "text": [
            "epoch[1]: 100%|██████████| 1520/1520 [04:33<00:00,  5.56it/s, loss=1.04806]\n",
            "validation :   1%|          | 4/326 [00:00<00:33,  9.75it/s]"
          ]
        },
        {
          "metadata": {
            "tags": null
          },
          "name": "stdout",
          "output_type": "stream",
          "text": [
            "\n",
            "== inference check ==\n",
            "target : Among them, in Seoul and Gyeonggi - do, automatically purchased consumers won.\n",
            "inference result: The first time that the first time, the first time to be not been not been not been not been a lot.\n"
          ]
        },
        {
          "metadata": {
            "tags": null
          },
          "name": "stderr",
          "output_type": "stream",
          "text": [
            "validation :  32%|███▏      | 104/326 [00:06<00:17, 12.46it/s]"
          ]
        },
        {
          "metadata": {
            "tags": null
          },
          "name": "stdout",
          "output_type": "stream",
          "text": [
            "\n",
            "== inference check ==\n",
            "target : In the afternoon, the North will be guided by the South to check the South ' s GP.\n",
            "inference result: The first time that the first time, the first time to be not been a lot of the first time.\n"
          ]
        },
        {
          "metadata": {
            "tags": null
          },
          "name": "stderr",
          "output_type": "stream",
          "text": [
            "validation :  63%|██████▎   | 204/326 [00:11<00:10, 11.65it/s]"
          ]
        },
        {
          "metadata": {
            "tags": null
          },
          "name": "stdout",
          "output_type": "stream",
          "text": [
            "\n",
            "== inference check ==\n",
            "target : When the way is blocked by camera, he starts to run out to the side.\n",
            "inference result: The first time that the first time, the first time to be not been not been not been not been not been a lot.\n"
          ]
        },
        {
          "metadata": {
            "tags": null
          },
          "name": "stderr",
          "output_type": "stream",
          "text": [
            "validation :  93%|█████████▎| 304/326 [00:17<00:01, 12.27it/s]"
          ]
        },
        {
          "metadata": {
            "tags": null
          },
          "name": "stdout",
          "output_type": "stream",
          "text": [
            "\n",
            "== inference check ==\n",
            "target : I had to walk and walk toward the starlight, looking for a star close to where I should walk.\n",
            "inference result: The first time that the first time, the first time to be a good in the first time.\n"
          ]
        },
        {
          "metadata": {
            "tags": null
          },
          "name": "stderr",
          "output_type": "stream",
          "text": [
            "validation : 100%|██████████| 326/326 [00:18<00:00, 17.35it/s]\n"
          ]
        },
        {
          "metadata": {
            "tags": null
          },
          "name": "stdout",
          "output_type": "stream",
          "text": [
            "/content/drive/MyDrive/Colab Notebooks/results/transformer-ko2eng/20240801144040/TransformerModel_ep_0_loss_1.1900_lr_0.0001.pt\n"
          ]
        },
        {
          "metadata": {
            "tags": null
          },
          "name": "stderr",
          "output_type": "stream",
          "text": [
            "epoch[2]: 100%|██████████| 1520/1520 [04:33<00:00,  5.56it/s, loss=0.95152]\n",
            "validation :   1%|          | 4/326 [00:01<01:05,  4.88it/s]"
          ]
        },
        {
          "metadata": {
            "tags": null
          },
          "name": "stdout",
          "output_type": "stream",
          "text": [
            "\n",
            "== inference check ==\n",
            "target : Among them, in Seoul and Gyeonggi - do, automatically purchased consumers won.\n",
            "inference result: The police has been held by the U. S. S. and the U. S. S. S. S. S. S. S. S. and the first. and the first. S. S. and the first. S. S. S. S. S. and the first. S. S. S. S.\n"
          ]
        },
        {
          "metadata": {
            "tags": null
          },
          "name": "stderr",
          "output_type": "stream",
          "text": [
            "validation :  32%|███▏      | 104/326 [00:06<00:17, 12.95it/s]"
          ]
        },
        {
          "metadata": {
            "tags": null
          },
          "name": "stdout",
          "output_type": "stream",
          "text": [
            "\n",
            "== inference check ==\n",
            "target : In the afternoon, the North will be guided by the South to check the South ' s GP.\n",
            "inference result: The first time that the police was held by the first time, and the police was held.\n"
          ]
        },
        {
          "metadata": {
            "tags": null
          },
          "name": "stderr",
          "output_type": "stream",
          "text": [
            "validation :  63%|██████▎   | 204/326 [00:12<00:09, 13.15it/s]"
          ]
        },
        {
          "metadata": {
            "tags": null
          },
          "name": "stdout",
          "output_type": "stream",
          "text": [
            "\n",
            "== inference check ==\n",
            "target : When the way is blocked by camera, he starts to run out to the side.\n",
            "inference result: The government ' s first time to the first time to the first time to the world.\n"
          ]
        },
        {
          "metadata": {
            "tags": null
          },
          "name": "stderr",
          "output_type": "stream",
          "text": [
            "validation :  93%|█████████▎| 304/326 [00:18<00:01, 13.29it/s]"
          ]
        },
        {
          "metadata": {
            "tags": null
          },
          "name": "stdout",
          "output_type": "stream",
          "text": [
            "\n",
            "== inference check ==\n",
            "target : I had to walk and walk toward the starlight, looking for a star close to where I should walk.\n",
            "inference result: The police had a lot of the first time to the two years and the game.\n"
          ]
        },
        {
          "metadata": {
            "tags": null
          },
          "name": "stderr",
          "output_type": "stream",
          "text": [
            "validation : 100%|██████████| 326/326 [00:19<00:00, 16.98it/s]\n"
          ]
        },
        {
          "metadata": {
            "tags": null
          },
          "name": "stdout",
          "output_type": "stream",
          "text": [
            "/content/drive/MyDrive/Colab Notebooks/results/transformer-ko2eng/20240801144040/TransformerModel_ep_1_loss_0.9333_lr_0.0001.pt\n"
          ]
        },
        {
          "metadata": {
            "tags": null
          },
          "name": "stderr",
          "output_type": "stream",
          "text": [
            "epoch[3]: 100%|██████████| 1520/1520 [04:33<00:00,  5.56it/s, loss=0.85835]\n",
            "validation :   1%|          | 4/326 [00:00<00:31, 10.13it/s]"
          ]
        },
        {
          "metadata": {
            "tags": null
          },
          "name": "stdout",
          "output_type": "stream",
          "text": [
            "\n",
            "== inference check ==\n",
            "target : Among them, in Seoul and Gyeonggi - do, automatically purchased consumers won.\n",
            "inference result: The number of the U. S. and the U. S. and the U. S. market.\n"
          ]
        },
        {
          "metadata": {
            "tags": null
          },
          "name": "stderr",
          "output_type": "stream",
          "text": [
            "validation :  32%|███▏      | 104/326 [00:06<00:18, 12.23it/s]"
          ]
        },
        {
          "metadata": {
            "tags": null
          },
          "name": "stdout",
          "output_type": "stream",
          "text": [
            "\n",
            "== inference check ==\n",
            "target : In the afternoon, the North will be guided by the South to check the South ' s GP.\n",
            "inference result: The police are in the top of the two Koreas, and the two people are in the end of the day.\n"
          ]
        },
        {
          "metadata": {
            "tags": null
          },
          "name": "stderr",
          "output_type": "stream",
          "text": [
            "validation :  63%|██████▎   | 204/326 [00:11<00:09, 13.45it/s]"
          ]
        },
        {
          "metadata": {
            "tags": null
          },
          "name": "stdout",
          "output_type": "stream",
          "text": [
            "\n",
            "== inference check ==\n",
            "target : When the way is blocked by camera, he starts to run out to the side.\n",
            "inference result: The police said that the police will be able to be a lot of the police.\n"
          ]
        },
        {
          "metadata": {
            "tags": null
          },
          "name": "stderr",
          "output_type": "stream",
          "text": [
            "validation :  93%|█████████▎| 304/326 [00:17<00:01, 12.40it/s]"
          ]
        },
        {
          "metadata": {
            "tags": null
          },
          "name": "stdout",
          "output_type": "stream",
          "text": [
            "\n",
            "== inference check ==\n",
            "target : I had to walk and walk toward the starlight, looking for a star close to where I should walk.\n",
            "inference result: The police are not interested to see the two people who are not able to get a lot of the body.\n"
          ]
        },
        {
          "metadata": {
            "tags": null
          },
          "name": "stderr",
          "output_type": "stream",
          "text": [
            "validation : 100%|██████████| 326/326 [00:18<00:00, 17.40it/s]\n"
          ]
        },
        {
          "metadata": {
            "tags": null
          },
          "name": "stdout",
          "output_type": "stream",
          "text": [
            "/content/drive/MyDrive/Colab Notebooks/results/transformer-ko2eng/20240801144040/TransformerModel_ep_2_loss_0.8717_lr_0.0001.pt\n"
          ]
        },
        {
          "metadata": {
            "tags": null
          },
          "name": "stderr",
          "output_type": "stream",
          "text": [
            "epoch[4]: 100%|██████████| 1520/1520 [04:33<00:00,  5.56it/s, loss=0.84353]\n",
            "validation :   1%|          | 4/326 [00:00<00:26, 12.19it/s]"
          ]
        },
        {
          "metadata": {
            "tags": null
          },
          "name": "stdout",
          "output_type": "stream",
          "text": [
            "\n",
            "== inference check ==\n",
            "target : Among them, in Seoul and Gyeonggi - do, automatically purchased consumers won.\n",
            "inference result: The Seoul and Seoul Party have been held in the Seoul and Seoul.\n"
          ]
        },
        {
          "metadata": {
            "tags": null
          },
          "name": "stderr",
          "output_type": "stream",
          "text": [
            "validation :  32%|███▏      | 104/326 [00:06<00:18, 12.33it/s]"
          ]
        },
        {
          "metadata": {
            "tags": null
          },
          "name": "stdout",
          "output_type": "stream",
          "text": [
            "\n",
            "== inference check ==\n",
            "target : In the afternoon, the North will be guided by the South to check the South ' s GP.\n",
            "inference result: The two people who are in the world ' s name, which is a long time to be a man.\n"
          ]
        },
        {
          "metadata": {
            "tags": null
          },
          "name": "stderr",
          "output_type": "stream",
          "text": [
            "validation :  63%|██████▎   | 204/326 [00:11<00:09, 12.45it/s]"
          ]
        },
        {
          "metadata": {
            "tags": null
          },
          "name": "stdout",
          "output_type": "stream",
          "text": [
            "\n",
            "== inference check ==\n",
            "target : When the way is blocked by camera, he starts to run out to the side.\n",
            "inference result: The two people who were in the world, and the two people were not able to be a lot.\n"
          ]
        },
        {
          "metadata": {
            "tags": null
          },
          "name": "stderr",
          "output_type": "stream",
          "text": [
            "validation :  93%|█████████▎| 304/326 [00:17<00:01, 12.87it/s]"
          ]
        },
        {
          "metadata": {
            "tags": null
          },
          "name": "stdout",
          "output_type": "stream",
          "text": [
            "\n",
            "== inference check ==\n",
            "target : I had to walk and walk toward the starlight, looking for a star close to where I should walk.\n",
            "inference result: I think it ' s not to do it to do it to do it and do it.\n"
          ]
        },
        {
          "metadata": {
            "tags": null
          },
          "name": "stderr",
          "output_type": "stream",
          "text": [
            "validation : 100%|██████████| 326/326 [00:18<00:00, 17.50it/s]\n"
          ]
        },
        {
          "metadata": {
            "tags": null
          },
          "name": "stdout",
          "output_type": "stream",
          "text": [
            "/content/drive/MyDrive/Colab Notebooks/results/transformer-ko2eng/20240801144040/TransformerModel_ep_3_loss_0.8284_lr_0.0001.pt\n"
          ]
        },
        {
          "metadata": {
            "tags": null
          },
          "name": "stderr",
          "output_type": "stream",
          "text": [
            "epoch[5]: 100%|██████████| 1520/1520 [04:33<00:00,  5.56it/s, loss=0.75488]\n",
            "validation :   1%|          | 4/326 [00:00<00:25, 12.51it/s]"
          ]
        },
        {
          "metadata": {
            "tags": null
          },
          "name": "stdout",
          "output_type": "stream",
          "text": [
            "\n",
            "== inference check ==\n",
            "target : Among them, in Seoul and Gyeonggi - do, automatically purchased consumers won.\n",
            "inference result: The Seoul Party and Seoul Party was held in Seoul and Seoul.\n"
          ]
        },
        {
          "metadata": {
            "tags": null
          },
          "name": "stderr",
          "output_type": "stream",
          "text": [
            "validation :  32%|███▏      | 104/326 [00:06<00:16, 13.16it/s]"
          ]
        },
        {
          "metadata": {
            "tags": null
          },
          "name": "stdout",
          "output_type": "stream",
          "text": [
            "\n",
            "== inference check ==\n",
            "target : In the afternoon, the North will be guided by the South to check the South ' s GP.\n",
            "inference result: The city will be held by the police and the fire will be held in the city.\n"
          ]
        },
        {
          "metadata": {
            "tags": null
          },
          "name": "stderr",
          "output_type": "stream",
          "text": [
            "validation :  63%|██████▎   | 204/326 [00:11<00:08, 13.59it/s]"
          ]
        },
        {
          "metadata": {
            "tags": null
          },
          "name": "stdout",
          "output_type": "stream",
          "text": [
            "\n",
            "== inference check ==\n",
            "target : When the way is blocked by camera, he starts to run out to the side.\n",
            "inference result: The two teams were found to be able to be a little and the body.\n"
          ]
        },
        {
          "metadata": {
            "tags": null
          },
          "name": "stderr",
          "output_type": "stream",
          "text": [
            "validation :  93%|█████████▎| 304/326 [00:17<00:01, 12.84it/s]"
          ]
        },
        {
          "metadata": {
            "tags": null
          },
          "name": "stdout",
          "output_type": "stream",
          "text": [
            "\n",
            "== inference check ==\n",
            "target : I had to walk and walk toward the starlight, looking for a star close to where I should walk.\n",
            "inference result: I think it ' s a good way to find a lot of people and ask to do it.\n"
          ]
        },
        {
          "metadata": {
            "tags": null
          },
          "name": "stderr",
          "output_type": "stream",
          "text": [
            "validation : 100%|██████████| 326/326 [00:18<00:00, 17.60it/s]\n"
          ]
        },
        {
          "metadata": {
            "tags": null
          },
          "name": "stdout",
          "output_type": "stream",
          "text": [
            "/content/drive/MyDrive/Colab Notebooks/results/transformer-ko2eng/20240801144040/TransformerModel_ep_4_loss_0.7927_lr_0.0001.pt\n"
          ]
        },
        {
          "metadata": {
            "tags": null
          },
          "name": "stderr",
          "output_type": "stream",
          "text": [
            "epoch[6]: 100%|██████████| 1520/1520 [04:33<00:00,  5.56it/s, loss=0.77568]\n",
            "validation :   1%|          | 4/326 [00:00<00:29, 10.96it/s]"
          ]
        },
        {
          "metadata": {
            "tags": null
          },
          "name": "stdout",
          "output_type": "stream",
          "text": [
            "\n",
            "== inference check ==\n",
            "target : Among them, in Seoul and Gyeonggi - do, automatically purchased consumers won.\n",
            "inference result: The Seoul Metropolitan Party and Seoul Metropolitan City of Seoul will be held in the southern region.\n"
          ]
        },
        {
          "metadata": {
            "tags": null
          },
          "name": "stderr",
          "output_type": "stream",
          "text": [
            "validation :  32%|███▏      | 104/326 [00:06<00:16, 13.16it/s]"
          ]
        },
        {
          "metadata": {
            "tags": null
          },
          "name": "stdout",
          "output_type": "stream",
          "text": [
            "\n",
            "== inference check ==\n",
            "target : In the afternoon, the North will be guided by the South to check the South ' s GP.\n",
            "inference result: The fire is held in the front of the building, and the driver will be held.\n"
          ]
        },
        {
          "metadata": {
            "tags": null
          },
          "name": "stderr",
          "output_type": "stream",
          "text": [
            "validation :  63%|██████▎   | 204/326 [00:11<00:09, 13.45it/s]"
          ]
        },
        {
          "metadata": {
            "tags": null
          },
          "name": "stdout",
          "output_type": "stream",
          "text": [
            "\n",
            "== inference check ==\n",
            "target : When the way is blocked by camera, he starts to run out to the side.\n",
            "inference result: The Lord ' s mother was a person who was in the front of the water.\n"
          ]
        },
        {
          "metadata": {
            "tags": null
          },
          "name": "stderr",
          "output_type": "stream",
          "text": [
            "validation :  93%|█████████▎| 304/326 [00:17<00:01, 13.21it/s]"
          ]
        },
        {
          "metadata": {
            "tags": null
          },
          "name": "stdout",
          "output_type": "stream",
          "text": [
            "\n",
            "== inference check ==\n",
            "target : I had to walk and walk toward the starlight, looking for a star close to where I should walk.\n",
            "inference result: I was able to find a child who was in the way to do with the Lord.\n"
          ]
        },
        {
          "metadata": {
            "tags": null
          },
          "name": "stderr",
          "output_type": "stream",
          "text": [
            "validation : 100%|██████████| 326/326 [00:18<00:00, 17.60it/s]\n"
          ]
        },
        {
          "metadata": {
            "tags": null
          },
          "name": "stdout",
          "output_type": "stream",
          "text": [
            "/content/drive/MyDrive/Colab Notebooks/results/transformer-ko2eng/20240801144040/TransformerModel_ep_5_loss_0.7615_lr_0.0001.pt\n"
          ]
        },
        {
          "metadata": {
            "tags": null
          },
          "name": "stderr",
          "output_type": "stream",
          "text": [
            "epoch[7]: 100%|██████████| 1520/1520 [04:33<00:00,  5.56it/s, loss=0.69367]\n",
            "validation :   1%|          | 4/326 [00:00<00:25, 12.45it/s]"
          ]
        },
        {
          "metadata": {
            "tags": null
          },
          "name": "stdout",
          "output_type": "stream",
          "text": [
            "\n",
            "== inference check ==\n",
            "target : Among them, in Seoul and Gyeonggi - do, automatically purchased consumers won.\n",
            "inference result: The Seoul Metropolitan Party was held to be held in Seoul and Seoul.\n"
          ]
        },
        {
          "metadata": {
            "tags": null
          },
          "name": "stderr",
          "output_type": "stream",
          "text": [
            "validation :  32%|███▏      | 104/326 [00:06<00:17, 12.55it/s]"
          ]
        },
        {
          "metadata": {
            "tags": null
          },
          "name": "stdout",
          "output_type": "stream",
          "text": [
            "\n",
            "== inference check ==\n",
            "target : In the afternoon, the North will be guided by the South to check the South ' s GP.\n",
            "inference result: The fire broke out at the entrance of the street, and the driver ' s office will be held.\n"
          ]
        },
        {
          "metadata": {
            "tags": null
          },
          "name": "stderr",
          "output_type": "stream",
          "text": [
            "validation :  63%|██████▎   | 204/326 [00:11<00:09, 13.45it/s]"
          ]
        },
        {
          "metadata": {
            "tags": null
          },
          "name": "stdout",
          "output_type": "stream",
          "text": [
            "\n",
            "== inference check ==\n",
            "target : When the way is blocked by camera, he starts to run out to the side.\n",
            "inference result: The man who was in the sea and the door was filled with a long time.\n"
          ]
        },
        {
          "metadata": {
            "tags": null
          },
          "name": "stderr",
          "output_type": "stream",
          "text": [
            "validation :  93%|█████████▎| 304/326 [00:17<00:01, 12.84it/s]"
          ]
        },
        {
          "metadata": {
            "tags": null
          },
          "name": "stdout",
          "output_type": "stream",
          "text": [
            "\n",
            "== inference check ==\n",
            "target : I had to walk and walk toward the starlight, looking for a star close to where I should walk.\n",
            "inference result: I hope that the children ' s mother and the children ' s family will be a good person.\n"
          ]
        },
        {
          "metadata": {
            "tags": null
          },
          "name": "stderr",
          "output_type": "stream",
          "text": [
            "validation : 100%|██████████| 326/326 [00:18<00:00, 17.59it/s]\n"
          ]
        },
        {
          "metadata": {
            "tags": null
          },
          "name": "stdout",
          "output_type": "stream",
          "text": [
            "/content/drive/MyDrive/Colab Notebooks/results/transformer-ko2eng/20240801144040/TransformerModel_ep_6_loss_0.7328_lr_0.0001.pt\n"
          ]
        },
        {
          "metadata": {
            "tags": null
          },
          "name": "stderr",
          "output_type": "stream",
          "text": [
            "epoch[8]: 100%|██████████| 1520/1520 [04:33<00:00,  5.56it/s, loss=0.66471]\n",
            "validation :   1%|          | 4/326 [00:00<00:26, 12.24it/s]"
          ]
        },
        {
          "metadata": {
            "tags": null
          },
          "name": "stdout",
          "output_type": "stream",
          "text": [
            "\n",
            "== inference check ==\n",
            "target : Among them, in Seoul and Gyeonggi - do, automatically purchased consumers won.\n",
            "inference result: Seoul and Seoul have been found to have a high school in Seoul.\n"
          ]
        },
        {
          "metadata": {
            "tags": null
          },
          "name": "stderr",
          "output_type": "stream",
          "text": [
            "validation :  32%|███▏      | 104/326 [00:06<00:17, 12.57it/s]"
          ]
        },
        {
          "metadata": {
            "tags": null
          },
          "name": "stdout",
          "output_type": "stream",
          "text": [
            "\n",
            "== inference check ==\n",
            "target : In the afternoon, the North will be guided by the South to check the South ' s GP.\n",
            "inference result: The event will be held at the entrance of the afternoon, and the next floor will be held.\n"
          ]
        },
        {
          "metadata": {
            "tags": null
          },
          "name": "stderr",
          "output_type": "stream",
          "text": [
            "validation :  63%|██████▎   | 204/326 [00:11<00:09, 12.27it/s]"
          ]
        },
        {
          "metadata": {
            "tags": null
          },
          "name": "stdout",
          "output_type": "stream",
          "text": [
            "\n",
            "== inference check ==\n",
            "target : When the way is blocked by camera, he starts to run out to the side.\n",
            "inference result: The man who was in a car is in a car and a car is not able to go to the car.\n"
          ]
        },
        {
          "metadata": {
            "tags": null
          },
          "name": "stderr",
          "output_type": "stream",
          "text": [
            "validation :  93%|█████████▎| 304/326 [00:17<00:01, 12.11it/s]"
          ]
        },
        {
          "metadata": {
            "tags": null
          },
          "name": "stdout",
          "output_type": "stream",
          "text": [
            "\n",
            "== inference check ==\n",
            "target : I had to walk and walk toward the starlight, looking for a star close to where I should walk.\n",
            "inference result: If you look at the way to find a person, you should have a lot of money and listen to the Lord.\n"
          ]
        },
        {
          "metadata": {
            "tags": null
          },
          "name": "stderr",
          "output_type": "stream",
          "text": [
            "validation : 100%|██████████| 326/326 [00:18<00:00, 17.49it/s]\n"
          ]
        },
        {
          "metadata": {
            "tags": null
          },
          "name": "stdout",
          "output_type": "stream",
          "text": [
            "/content/drive/MyDrive/Colab Notebooks/results/transformer-ko2eng/20240801144040/TransformerModel_ep_7_loss_0.7055_lr_0.0001.pt\n"
          ]
        },
        {
          "metadata": {
            "tags": null
          },
          "name": "stderr",
          "output_type": "stream",
          "text": [
            "epoch[9]: 100%|██████████| 1520/1520 [04:33<00:00,  5.56it/s, loss=0.70928]\n",
            "validation :   1%|          | 4/326 [00:00<00:26, 11.96it/s]"
          ]
        },
        {
          "metadata": {
            "tags": null
          },
          "name": "stdout",
          "output_type": "stream",
          "text": [
            "\n",
            "== inference check ==\n",
            "target : Among them, in Seoul and Gyeonggi - do, automatically purchased consumers won.\n",
            "inference result: The city was held to the Seoul Metropolitan City and the Seoul Metropolitan Government.\n"
          ]
        },
        {
          "metadata": {
            "tags": null
          },
          "name": "stderr",
          "output_type": "stream",
          "text": [
            "validation :  32%|███▏      | 104/326 [00:06<00:17, 12.82it/s]"
          ]
        },
        {
          "metadata": {
            "tags": null
          },
          "name": "stdout",
          "output_type": "stream",
          "text": [
            "\n",
            "== inference check ==\n",
            "target : In the afternoon, the North will be guided by the South to check the South ' s GP.\n",
            "inference result: The next day, the next - time search summit will be held at the entrance of the afternoon.\n"
          ]
        },
        {
          "metadata": {
            "tags": null
          },
          "name": "stderr",
          "output_type": "stream",
          "text": [
            "validation :  63%|██████▎   | 204/326 [00:11<00:09, 12.64it/s]"
          ]
        },
        {
          "metadata": {
            "tags": null
          },
          "name": "stdout",
          "output_type": "stream",
          "text": [
            "\n",
            "== inference check ==\n",
            "target : When the way is blocked by camera, he starts to run out to the side.\n",
            "inference result: When the man is in a car, he / she is going to be a man who is in his / her.\n"
          ]
        },
        {
          "metadata": {
            "tags": null
          },
          "name": "stderr",
          "output_type": "stream",
          "text": [
            "validation :  93%|█████████▎| 304/326 [00:17<00:01, 11.73it/s]"
          ]
        },
        {
          "metadata": {
            "tags": null
          },
          "name": "stdout",
          "output_type": "stream",
          "text": [
            "\n",
            "== inference check ==\n",
            "target : I had to walk and walk toward the starlight, looking for a star close to where I should walk.\n",
            "inference result: I hope that the Lord will be a person who is a person who is a person who is a person who is a person.\n"
          ]
        },
        {
          "metadata": {
            "tags": null
          },
          "name": "stderr",
          "output_type": "stream",
          "text": [
            "validation : 100%|██████████| 326/326 [00:18<00:00, 17.45it/s]\n"
          ]
        },
        {
          "metadata": {
            "tags": null
          },
          "name": "stdout",
          "output_type": "stream",
          "text": [
            "/content/drive/MyDrive/Colab Notebooks/results/transformer-ko2eng/20240801144040/TransformerModel_ep_8_loss_0.6801_lr_0.0001.pt\n"
          ]
        },
        {
          "metadata": {
            "tags": null
          },
          "name": "stderr",
          "output_type": "stream",
          "text": [
            "epoch[10]: 100%|██████████| 1520/1520 [04:33<00:00,  5.56it/s, loss=0.70101]\n",
            "validation :   1%|          | 4/326 [00:00<00:26, 11.96it/s]"
          ]
        },
        {
          "metadata": {
            "tags": null
          },
          "name": "stdout",
          "output_type": "stream",
          "text": [
            "\n",
            "== inference check ==\n",
            "target : Among them, in Seoul and Gyeonggi - do, automatically purchased consumers won.\n",
            "inference result: The Seoul Metropolitan Government was held to expand a large - scale job building.\n"
          ]
        },
        {
          "metadata": {
            "tags": null
          },
          "name": "stderr",
          "output_type": "stream",
          "text": [
            "validation :  32%|███▏      | 104/326 [00:06<00:17, 12.77it/s]"
          ]
        },
        {
          "metadata": {
            "tags": null
          },
          "name": "stdout",
          "output_type": "stream",
          "text": [
            "\n",
            "== inference check ==\n",
            "target : In the afternoon, the North will be guided by the South to check the South ' s GP.\n",
            "inference result: The day after the afternoon, the floor leader of the North Korea will be held on the day.\n"
          ]
        },
        {
          "metadata": {
            "tags": null
          },
          "name": "stderr",
          "output_type": "stream",
          "text": [
            "validation :  63%|██████▎   | 204/326 [00:11<00:09, 13.17it/s]"
          ]
        },
        {
          "metadata": {
            "tags": null
          },
          "name": "stdout",
          "output_type": "stream",
          "text": [
            "\n",
            "== inference check ==\n",
            "target : When the way is blocked by camera, he starts to run out to the side.\n",
            "inference result: The son is decorated with a shot and the ball is decorated and the ball is torn.\n"
          ]
        },
        {
          "metadata": {
            "tags": null
          },
          "name": "stderr",
          "output_type": "stream",
          "text": [
            "validation :  93%|█████████▎| 304/326 [00:17<00:01, 12.62it/s]"
          ]
        },
        {
          "metadata": {
            "tags": null
          },
          "name": "stdout",
          "output_type": "stream",
          "text": [
            "\n",
            "== inference check ==\n",
            "target : I had to walk and walk toward the starlight, looking for a star close to where I should walk.\n",
            "inference result: One day, I was going to see a pizza and I was going to eat a day.\n"
          ]
        },
        {
          "metadata": {
            "tags": null
          },
          "name": "stderr",
          "output_type": "stream",
          "text": [
            "validation : 100%|██████████| 326/326 [00:18<00:00, 17.58it/s]\n"
          ]
        },
        {
          "metadata": {
            "tags": null
          },
          "name": "stdout",
          "output_type": "stream",
          "text": [
            "/content/drive/MyDrive/Colab Notebooks/results/transformer-ko2eng/20240801144040/TransformerModel_ep_9_loss_0.6559_lr_0.0001.pt\n"
          ]
        },
        {
          "metadata": {
            "tags": null
          },
          "name": "stderr",
          "output_type": "stream",
          "text": [
            "epoch[11]: 100%|██████████| 1520/1520 [04:33<00:00,  5.56it/s, loss=0.63859]\n",
            "validation :   1%|          | 4/326 [00:00<00:27, 11.81it/s]"
          ]
        },
        {
          "metadata": {
            "tags": null
          },
          "name": "stdout",
          "output_type": "stream",
          "text": [
            "\n",
            "== inference check ==\n",
            "target : Among them, in Seoul and Gyeonggi - do, automatically purchased consumers won.\n",
            "inference result: The city and Gyeonggi - do have been suspended for the first time in Seoul.\n"
          ]
        },
        {
          "metadata": {
            "tags": null
          },
          "name": "stderr",
          "output_type": "stream",
          "text": [
            "validation :  32%|███▏      | 104/326 [00:06<00:16, 13.24it/s]"
          ]
        },
        {
          "metadata": {
            "tags": null
          },
          "name": "stdout",
          "output_type": "stream",
          "text": [
            "\n",
            "== inference check ==\n",
            "target : In the afternoon, the North will be guided by the South to check the South ' s GP.\n",
            "inference result: Jeju Air will hold a special event to the North and open the door to the North.\n"
          ]
        },
        {
          "metadata": {
            "tags": null
          },
          "name": "stderr",
          "output_type": "stream",
          "text": [
            "validation :  63%|██████▎   | 204/326 [00:11<00:09, 13.23it/s]"
          ]
        },
        {
          "metadata": {
            "tags": null
          },
          "name": "stdout",
          "output_type": "stream",
          "text": [
            "\n",
            "== inference check ==\n",
            "target : When the way is blocked by camera, he starts to run out to the side.\n",
            "inference result: The camera will be filled with a black box and the driver is going to go back.\n"
          ]
        },
        {
          "metadata": {
            "tags": null
          },
          "name": "stderr",
          "output_type": "stream",
          "text": [
            "validation :  93%|█████████▎| 304/326 [00:17<00:01, 12.10it/s]"
          ]
        },
        {
          "metadata": {
            "tags": null
          },
          "name": "stdout",
          "output_type": "stream",
          "text": [
            "\n",
            "== inference check ==\n",
            "target : I had to walk and walk toward the starlight, looking for a star close to where I should walk.\n",
            "inference result: One day, I was going to be a piano and the sound of the Lord was so happy to die.\n"
          ]
        },
        {
          "metadata": {
            "tags": null
          },
          "name": "stderr",
          "output_type": "stream",
          "text": [
            "validation : 100%|██████████| 326/326 [00:18<00:00, 17.60it/s]\n"
          ]
        },
        {
          "metadata": {
            "tags": null
          },
          "name": "stdout",
          "output_type": "stream",
          "text": [
            "/content/drive/MyDrive/Colab Notebooks/results/transformer-ko2eng/20240801144040/TransformerModel_ep_10_loss_0.6328_lr_0.0001.pt\n"
          ]
        },
        {
          "metadata": {
            "tags": null
          },
          "name": "stderr",
          "output_type": "stream",
          "text": [
            "epoch[12]: 100%|██████████| 1520/1520 [04:33<00:00,  5.56it/s, loss=0.56422]\n",
            "validation :   1%|          | 4/326 [00:00<00:24, 12.92it/s]"
          ]
        },
        {
          "metadata": {
            "tags": null
          },
          "name": "stdout",
          "output_type": "stream",
          "text": [
            "\n",
            "== inference check ==\n",
            "target : Among them, in Seoul and Gyeonggi - do, automatically purchased consumers won.\n",
            "inference result: The event was held by Seoul and Gyeonggi - do Province.\n"
          ]
        },
        {
          "metadata": {
            "tags": null
          },
          "name": "stderr",
          "output_type": "stream",
          "text": [
            "validation :  32%|███▏      | 104/326 [00:06<00:19, 11.58it/s]"
          ]
        },
        {
          "metadata": {
            "tags": null
          },
          "name": "stdout",
          "output_type": "stream",
          "text": [
            "\n",
            "== inference check ==\n",
            "target : In the afternoon, the North will be guided by the South to check the South ' s GP.\n",
            "inference result: On the afternoon, the North Korea - U. S. will be dispatched to the front of the North Korea - U. S.\n"
          ]
        },
        {
          "metadata": {
            "tags": null
          },
          "name": "stderr",
          "output_type": "stream",
          "text": [
            "validation :  63%|██████▎   | 204/326 [00:11<00:08, 14.07it/s]"
          ]
        },
        {
          "metadata": {
            "tags": null
          },
          "name": "stdout",
          "output_type": "stream",
          "text": [
            "\n",
            "== inference check ==\n",
            "target : When the way is blocked by camera, he starts to run out to the side.\n",
            "inference result: The camera will be held and the driver will go to the car.\n"
          ]
        },
        {
          "metadata": {
            "tags": null
          },
          "name": "stderr",
          "output_type": "stream",
          "text": [
            "validation :  93%|█████████▎| 304/326 [00:17<00:01, 12.56it/s]"
          ]
        },
        {
          "metadata": {
            "tags": null
          },
          "name": "stdout",
          "output_type": "stream",
          "text": [
            "\n",
            "== inference check ==\n",
            "target : I had to walk and walk toward the starlight, looking for a star close to where I should walk.\n",
            "inference result: One day, I was going to see the Lord ' s hand and the Lord ' s handball.\n"
          ]
        },
        {
          "metadata": {
            "tags": null
          },
          "name": "stderr",
          "output_type": "stream",
          "text": [
            "validation : 100%|██████████| 326/326 [00:18<00:00, 17.61it/s]\n"
          ]
        },
        {
          "metadata": {
            "tags": null
          },
          "name": "stdout",
          "output_type": "stream",
          "text": [
            "/content/drive/MyDrive/Colab Notebooks/results/transformer-ko2eng/20240801144040/TransformerModel_ep_11_loss_0.6099_lr_0.0001.pt\n"
          ]
        },
        {
          "metadata": {
            "tags": null
          },
          "name": "stderr",
          "output_type": "stream",
          "text": [
            "epoch[13]: 100%|██████████| 1520/1520 [04:33<00:00,  5.56it/s, loss=0.59016]\n",
            "validation :   1%|          | 4/326 [00:00<00:27, 11.74it/s]"
          ]
        },
        {
          "metadata": {
            "tags": null
          },
          "name": "stdout",
          "output_type": "stream",
          "text": [
            "\n",
            "== inference check ==\n",
            "target : Among them, in Seoul and Gyeonggi - do, automatically purchased consumers won.\n",
            "inference result: The Seoul and Gyeonggi - do have been sold to purchase a purchase of purchase.\n"
          ]
        },
        {
          "metadata": {
            "tags": null
          },
          "name": "stderr",
          "output_type": "stream",
          "text": [
            "validation :  32%|███▏      | 104/326 [00:06<00:16, 13.16it/s]"
          ]
        },
        {
          "metadata": {
            "tags": null
          },
          "name": "stdout",
          "output_type": "stream",
          "text": [
            "\n",
            "== inference check ==\n",
            "target : In the afternoon, the North will be guided by the South to check the South ' s GP.\n",
            "inference result: The North Korea will check the North Korean nuclear weapons after the North Korea - Japan summit.\n"
          ]
        },
        {
          "metadata": {
            "tags": null
          },
          "name": "stderr",
          "output_type": "stream",
          "text": [
            "validation :  63%|██████▎   | 204/326 [00:11<00:08, 13.62it/s]"
          ]
        },
        {
          "metadata": {
            "tags": null
          },
          "name": "stdout",
          "output_type": "stream",
          "text": [
            "\n",
            "== inference check ==\n",
            "target : When the way is blocked by camera, he starts to run out to the side.\n",
            "inference result: The camera begins and the camera begins and the door begins and the door begins.\n"
          ]
        },
        {
          "metadata": {
            "tags": null
          },
          "name": "stderr",
          "output_type": "stream",
          "text": [
            "validation :  93%|█████████▎| 304/326 [00:17<00:01, 12.85it/s]"
          ]
        },
        {
          "metadata": {
            "tags": null
          },
          "name": "stdout",
          "output_type": "stream",
          "text": [
            "\n",
            "== inference check ==\n",
            "target : I had to walk and walk toward the starlight, looking for a star close to where I should walk.\n",
            "inference result: One day, the Lord said that the pain was not a soft and the sea must be seen.\n"
          ]
        },
        {
          "metadata": {
            "tags": null
          },
          "name": "stderr",
          "output_type": "stream",
          "text": [
            "validation : 100%|██████████| 326/326 [00:18<00:00, 17.66it/s]\n"
          ]
        },
        {
          "metadata": {
            "tags": null
          },
          "name": "stdout",
          "output_type": "stream",
          "text": [
            "/content/drive/MyDrive/Colab Notebooks/results/transformer-ko2eng/20240801144040/TransformerModel_ep_12_loss_0.5880_lr_0.0001.pt\n"
          ]
        },
        {
          "metadata": {
            "tags": null
          },
          "name": "stderr",
          "output_type": "stream",
          "text": [
            "epoch[14]: 100%|██████████| 1520/1520 [04:33<00:00,  5.56it/s, loss=0.55397]\n",
            "validation :   1%|          | 4/326 [00:00<00:27, 11.65it/s]"
          ]
        },
        {
          "metadata": {
            "tags": null
          },
          "name": "stdout",
          "output_type": "stream",
          "text": [
            "\n",
            "== inference check ==\n",
            "target : Among them, in Seoul and Gyeonggi - do, automatically purchased consumers won.\n",
            "inference result: Among them, Gyeonggi - do and Gyeonggi - do have been sold for customers.\n"
          ]
        },
        {
          "metadata": {
            "tags": null
          },
          "name": "stderr",
          "output_type": "stream",
          "text": [
            "validation :  32%|███▏      | 104/326 [00:06<00:17, 12.90it/s]"
          ]
        },
        {
          "metadata": {
            "tags": null
          },
          "name": "stdout",
          "output_type": "stream",
          "text": [
            "\n",
            "== inference check ==\n",
            "target : In the afternoon, the North will be guided by the South to check the South ' s GP.\n",
            "inference result: In the afternoon, the North Korean Embassy is checking to the streets to the streets.\n"
          ]
        },
        {
          "metadata": {
            "tags": null
          },
          "name": "stderr",
          "output_type": "stream",
          "text": [
            "validation :  63%|██████▎   | 204/326 [00:11<00:09, 12.97it/s]"
          ]
        },
        {
          "metadata": {
            "tags": null
          },
          "name": "stdout",
          "output_type": "stream",
          "text": [
            "\n",
            "== inference check ==\n",
            "target : When the way is blocked by camera, he starts to run out to the side.\n",
            "inference result: A camera begins and takes a long time to go to the camera and begin to the camera.\n"
          ]
        },
        {
          "metadata": {
            "tags": null
          },
          "name": "stderr",
          "output_type": "stream",
          "text": [
            "validation :  93%|█████████▎| 304/326 [00:17<00:01, 12.32it/s]"
          ]
        },
        {
          "metadata": {
            "tags": null
          },
          "name": "stdout",
          "output_type": "stream",
          "text": [
            "\n",
            "== inference check ==\n",
            "target : I had to walk and walk toward the starlight, looking for a star close to where I should walk.\n",
            "inference result: One day, I also asked for a long time to live a place where the Lord is going to eat.\n"
          ]
        },
        {
          "metadata": {
            "tags": null
          },
          "name": "stderr",
          "output_type": "stream",
          "text": [
            "validation : 100%|██████████| 326/326 [00:18<00:00, 17.59it/s]\n"
          ]
        },
        {
          "metadata": {
            "tags": null
          },
          "name": "stdout",
          "output_type": "stream",
          "text": [
            "/content/drive/MyDrive/Colab Notebooks/results/transformer-ko2eng/20240801144040/TransformerModel_ep_13_loss_0.5670_lr_0.0001.pt\n"
          ]
        },
        {
          "metadata": {
            "tags": null
          },
          "name": "stderr",
          "output_type": "stream",
          "text": [
            "epoch[15]: 100%|██████████| 1520/1520 [04:33<00:00,  5.56it/s, loss=0.59259]\n",
            "validation :   1%|          | 4/326 [00:00<00:28, 11.40it/s]"
          ]
        },
        {
          "metadata": {
            "tags": null
          },
          "name": "stdout",
          "output_type": "stream",
          "text": [
            "\n",
            "== inference check ==\n",
            "target : Among them, in Seoul and Gyeonggi - do, automatically purchased consumers won.\n",
            "inference result: Among them, Gyeonggi - do Province has sold a purchase with customers and mobile customers.\n"
          ]
        },
        {
          "metadata": {
            "tags": null
          },
          "name": "stderr",
          "output_type": "stream",
          "text": [
            "validation :  32%|███▏      | 104/326 [00:06<00:16, 13.61it/s]"
          ]
        },
        {
          "metadata": {
            "tags": null
          },
          "name": "stdout",
          "output_type": "stream",
          "text": [
            "\n",
            "== inference check ==\n",
            "target : In the afternoon, the North will be guided by the South to check the South ' s GP.\n",
            "inference result: The North Korea will investigate the North Korean side by the North Korea - Japan.\n"
          ]
        },
        {
          "metadata": {
            "tags": null
          },
          "name": "stderr",
          "output_type": "stream",
          "text": [
            "validation :  63%|██████▎   | 204/326 [00:11<00:08, 14.05it/s]"
          ]
        },
        {
          "metadata": {
            "tags": null
          },
          "name": "stdout",
          "output_type": "stream",
          "text": [
            "\n",
            "== inference check ==\n",
            "target : When the way is blocked by camera, he starts to run out to the side.\n",
            "inference result: The camera begins to be held and the camera begins to the door.\n"
          ]
        },
        {
          "metadata": {
            "tags": null
          },
          "name": "stderr",
          "output_type": "stream",
          "text": [
            "validation :  94%|█████████▎| 305/326 [00:17<00:01, 13.20it/s]"
          ]
        },
        {
          "metadata": {
            "tags": null
          },
          "name": "stdout",
          "output_type": "stream",
          "text": [
            "\n",
            "== inference check ==\n",
            "target : I had to walk and walk toward the starlight, looking for a star close to where I should walk.\n",
            "inference result: One day, the Lord should go to the mountain and the Lord ' s Lord to go to the mountain.\n"
          ]
        },
        {
          "metadata": {
            "tags": null
          },
          "name": "stderr",
          "output_type": "stream",
          "text": [
            "validation : 100%|██████████| 326/326 [00:18<00:00, 17.69it/s]\n"
          ]
        },
        {
          "metadata": {
            "tags": null
          },
          "name": "stdout",
          "output_type": "stream",
          "text": [
            "/content/drive/MyDrive/Colab Notebooks/results/transformer-ko2eng/20240801144040/TransformerModel_ep_14_loss_0.5468_lr_0.0001.pt\n"
          ]
        },
        {
          "metadata": {
            "tags": null
          },
          "name": "stderr",
          "output_type": "stream",
          "text": [
            "epoch[16]: 100%|██████████| 1520/1520 [04:33<00:00,  5.57it/s, loss=0.48433]\n",
            "validation :   1%|          | 4/326 [00:00<00:27, 11.59it/s]"
          ]
        },
        {
          "metadata": {
            "tags": null
          },
          "name": "stdout",
          "output_type": "stream",
          "text": [
            "\n",
            "== inference check ==\n",
            "target : Among them, in Seoul and Gyeonggi - do, automatically purchased consumers won.\n",
            "inference result: Among them, Gyeonggi - do and Gyeonggi - do have been sold for customers.\n"
          ]
        },
        {
          "metadata": {
            "tags": null
          },
          "name": "stderr",
          "output_type": "stream",
          "text": [
            "validation :  32%|███▏      | 104/326 [00:06<00:16, 13.49it/s]"
          ]
        },
        {
          "metadata": {
            "tags": null
          },
          "name": "stdout",
          "output_type": "stream",
          "text": [
            "\n",
            "== inference check ==\n",
            "target : In the afternoon, the North will be guided by the South to check the South ' s GP.\n",
            "inference result: At the afternoon, North Korea will check the North Korean side by checking the North.\n"
          ]
        },
        {
          "metadata": {
            "tags": null
          },
          "name": "stderr",
          "output_type": "stream",
          "text": [
            "validation :  63%|██████▎   | 204/326 [00:11<00:08, 13.83it/s]"
          ]
        },
        {
          "metadata": {
            "tags": null
          },
          "name": "stdout",
          "output_type": "stream",
          "text": [
            "\n",
            "== inference check ==\n",
            "target : When the way is blocked by camera, he starts to run out to the side.\n",
            "inference result: The camera begins to be taken by the camera and begin to the camera.\n"
          ]
        },
        {
          "metadata": {
            "tags": null
          },
          "name": "stderr",
          "output_type": "stream",
          "text": [
            "validation :  93%|█████████▎| 304/326 [00:17<00:01, 13.11it/s]"
          ]
        },
        {
          "metadata": {
            "tags": null
          },
          "name": "stdout",
          "output_type": "stream",
          "text": [
            "\n",
            "== inference check ==\n",
            "target : I had to walk and walk toward the starlight, looking for a star close to where I should walk.\n",
            "inference result: One day, the Lord had to go to the way to the direction and the Lord.\n"
          ]
        },
        {
          "metadata": {
            "tags": null
          },
          "name": "stderr",
          "output_type": "stream",
          "text": [
            "validation : 100%|██████████| 326/326 [00:18<00:00, 17.72it/s]\n"
          ]
        },
        {
          "metadata": {
            "tags": null
          },
          "name": "stdout",
          "output_type": "stream",
          "text": [
            "/content/drive/MyDrive/Colab Notebooks/results/transformer-ko2eng/20240801144040/TransformerModel_ep_15_loss_0.5280_lr_0.0001.pt\n"
          ]
        },
        {
          "metadata": {
            "tags": null
          },
          "name": "stderr",
          "output_type": "stream",
          "text": [
            "epoch[17]: 100%|██████████| 1520/1520 [04:33<00:00,  5.56it/s, loss=0.47690]\n",
            "validation :   1%|          | 4/326 [00:00<00:28, 11.31it/s]"
          ]
        },
        {
          "metadata": {
            "tags": null
          },
          "name": "stdout",
          "output_type": "stream",
          "text": [
            "\n",
            "== inference check ==\n",
            "target : Among them, in Seoul and Gyeonggi - do, automatically purchased consumers won.\n",
            "inference result: Among them, Gyeonggi and Gyeonggi - do, sales customers were sold for customers.\n"
          ]
        },
        {
          "metadata": {
            "tags": null
          },
          "name": "stderr",
          "output_type": "stream",
          "text": [
            "validation :  32%|███▏      | 104/326 [00:06<00:17, 12.79it/s]"
          ]
        },
        {
          "metadata": {
            "tags": null
          },
          "name": "stdout",
          "output_type": "stream",
          "text": [
            "\n",
            "== inference check ==\n",
            "target : In the afternoon, the North will be guided by the South to check the South ' s GP.\n",
            "inference result: In the afternoon, North Korea is checking the possibility of a North Korean side to use the North.\n"
          ]
        },
        {
          "metadata": {
            "tags": null
          },
          "name": "stderr",
          "output_type": "stream",
          "text": [
            "validation :  63%|██████▎   | 204/326 [00:11<00:09, 13.08it/s]"
          ]
        },
        {
          "metadata": {
            "tags": null
          },
          "name": "stdout",
          "output_type": "stream",
          "text": [
            "\n",
            "== inference check ==\n",
            "target : When the way is blocked by camera, he starts to run out to the side.\n",
            "inference result: The camera begins to be held and the door starts to be released in front of the camera.\n"
          ]
        },
        {
          "metadata": {
            "tags": null
          },
          "name": "stderr",
          "output_type": "stream",
          "text": [
            "validation :  93%|█████████▎| 304/326 [00:17<00:01, 12.41it/s]"
          ]
        },
        {
          "metadata": {
            "tags": null
          },
          "name": "stdout",
          "output_type": "stream",
          "text": [
            "\n",
            "== inference check ==\n",
            "target : I had to walk and walk toward the starlight, looking for a star close to where I should walk.\n",
            "inference result: One day, I asked if the Lord to go to the direction and the Lord must be a piano.\n"
          ]
        },
        {
          "metadata": {
            "tags": null
          },
          "name": "stderr",
          "output_type": "stream",
          "text": [
            "validation : 100%|██████████| 326/326 [00:18<00:00, 17.58it/s]\n"
          ]
        },
        {
          "metadata": {
            "tags": null
          },
          "name": "stdout",
          "output_type": "stream",
          "text": [
            "/content/drive/MyDrive/Colab Notebooks/results/transformer-ko2eng/20240801144040/TransformerModel_ep_16_loss_0.5101_lr_0.0001.pt\n"
          ]
        },
        {
          "metadata": {
            "tags": null
          },
          "name": "stderr",
          "output_type": "stream",
          "text": [
            "epoch[18]: 100%|██████████| 1520/1520 [04:33<00:00,  5.57it/s, loss=0.51598]\n",
            "validation :   1%|          | 4/326 [00:00<00:28, 11.16it/s]"
          ]
        },
        {
          "metadata": {
            "tags": null
          },
          "name": "stdout",
          "output_type": "stream",
          "text": [
            "\n",
            "== inference check ==\n",
            "target : Among them, in Seoul and Gyeonggi - do, automatically purchased consumers won.\n",
            "inference result: Among them, consumers have been sold as planned as Gyeonggi - do and Gyeonggi - do.\n"
          ]
        },
        {
          "metadata": {
            "tags": null
          },
          "name": "stderr",
          "output_type": "stream",
          "text": [
            "validation :  32%|███▏      | 104/326 [00:06<00:16, 13.39it/s]"
          ]
        },
        {
          "metadata": {
            "tags": null
          },
          "name": "stdout",
          "output_type": "stream",
          "text": [
            "\n",
            "== inference check ==\n",
            "target : In the afternoon, the North will be guided by the South to check the South ' s GP.\n",
            "inference result: In the afternoon, the North Korean side is checking the possibility of a passport.\n"
          ]
        },
        {
          "metadata": {
            "tags": null
          },
          "name": "stderr",
          "output_type": "stream",
          "text": [
            "validation :  63%|██████▎   | 204/326 [00:11<00:09, 13.29it/s]"
          ]
        },
        {
          "metadata": {
            "tags": null
          },
          "name": "stdout",
          "output_type": "stream",
          "text": [
            "\n",
            "== inference check ==\n",
            "target : When the way is blocked by camera, he starts to run out to the side.\n",
            "inference result: The camera begins to be broken and begin to the door to the end of the car.\n"
          ]
        },
        {
          "metadata": {
            "tags": null
          },
          "name": "stderr",
          "output_type": "stream",
          "text": [
            "validation :  93%|█████████▎| 304/326 [00:17<00:01, 12.86it/s]"
          ]
        },
        {
          "metadata": {
            "tags": null
          },
          "name": "stdout",
          "output_type": "stream",
          "text": [
            "\n",
            "== inference check ==\n",
            "target : I had to walk and walk toward the starlight, looking for a star close to where I should walk.\n",
            "inference result: One place has to come to the place where the sun must go to the direction and the Lord.\n"
          ]
        },
        {
          "metadata": {
            "tags": null
          },
          "name": "stderr",
          "output_type": "stream",
          "text": [
            "validation : 100%|██████████| 326/326 [00:18<00:00, 17.67it/s]\n"
          ]
        },
        {
          "metadata": {
            "tags": null
          },
          "name": "stdout",
          "output_type": "stream",
          "text": [
            "/content/drive/MyDrive/Colab Notebooks/results/transformer-ko2eng/20240801144040/TransformerModel_ep_17_loss_0.4934_lr_0.0001.pt\n"
          ]
        },
        {
          "metadata": {
            "tags": null
          },
          "name": "stderr",
          "output_type": "stream",
          "text": [
            "epoch[19]: 100%|██████████| 1520/1520 [04:33<00:00,  5.57it/s, loss=0.54583]\n",
            "validation :   1%|          | 4/326 [00:00<00:27, 11.54it/s]"
          ]
        },
        {
          "metadata": {
            "tags": null
          },
          "name": "stdout",
          "output_type": "stream",
          "text": [
            "\n",
            "== inference check ==\n",
            "target : Among them, in Seoul and Gyeonggi - do, automatically purchased consumers won.\n",
            "inference result: Among them, Seoul and Gyeonggi - do have been sold as a customer purchase.\n"
          ]
        },
        {
          "metadata": {
            "tags": null
          },
          "name": "stderr",
          "output_type": "stream",
          "text": [
            "validation :  32%|███▏      | 104/326 [00:05<00:16, 13.86it/s]"
          ]
        },
        {
          "metadata": {
            "tags": null
          },
          "name": "stdout",
          "output_type": "stream",
          "text": [
            "\n",
            "== inference check ==\n",
            "target : In the afternoon, the North will be guided by the South to check the South ' s GP.\n",
            "inference result: In the afternoon, the North Korea is checking the North Korean sidewalk.\n"
          ]
        },
        {
          "metadata": {
            "tags": null
          },
          "name": "stderr",
          "output_type": "stream",
          "text": [
            "validation :  63%|██████▎   | 204/326 [00:11<00:08, 13.66it/s]"
          ]
        },
        {
          "metadata": {
            "tags": null
          },
          "name": "stdout",
          "output_type": "stream",
          "text": [
            "\n",
            "== inference check ==\n",
            "target : When the way is blocked by camera, he starts to run out to the side.\n",
            "inference result: The camera begins to open the door and begin to the door to the door.\n"
          ]
        },
        {
          "metadata": {
            "tags": null
          },
          "name": "stderr",
          "output_type": "stream",
          "text": [
            "validation :  93%|█████████▎| 304/326 [00:17<00:01, 13.20it/s]"
          ]
        },
        {
          "metadata": {
            "tags": null
          },
          "name": "stdout",
          "output_type": "stream",
          "text": [
            "\n",
            "== inference check ==\n",
            "target : I had to walk and walk toward the starlight, looking for a star close to where I should walk.\n",
            "inference result: One place should come to the place where the sun must go to the way to go.\n"
          ]
        },
        {
          "metadata": {
            "tags": null
          },
          "name": "stderr",
          "output_type": "stream",
          "text": [
            "validation : 100%|██████████| 326/326 [00:18<00:00, 17.77it/s]\n"
          ]
        },
        {
          "metadata": {
            "tags": null
          },
          "name": "stdout",
          "output_type": "stream",
          "text": [
            "/content/drive/MyDrive/Colab Notebooks/results/transformer-ko2eng/20240801144040/TransformerModel_ep_18_loss_0.4774_lr_0.0001.pt\n"
          ]
        },
        {
          "metadata": {
            "tags": null
          },
          "name": "stderr",
          "output_type": "stream",
          "text": [
            "epoch[20]: 100%|██████████| 1520/1520 [04:33<00:00,  5.57it/s, loss=0.41808]\n",
            "validation :   1%|          | 4/326 [00:00<00:27, 11.77it/s]"
          ]
        },
        {
          "metadata": {
            "tags": null
          },
          "name": "stdout",
          "output_type": "stream",
          "text": [
            "\n",
            "== inference check ==\n",
            "target : Among them, in Seoul and Gyeonggi - do, automatically purchased consumers won.\n",
            "inference result: The number of consumers and Gyeonggi - do Province has been sold as consumers.\n"
          ]
        },
        {
          "metadata": {
            "tags": null
          },
          "name": "stderr",
          "output_type": "stream",
          "text": [
            "validation :  32%|███▏      | 104/326 [00:06<00:17, 12.73it/s]"
          ]
        },
        {
          "metadata": {
            "tags": null
          },
          "name": "stdout",
          "output_type": "stream",
          "text": [
            "\n",
            "== inference check ==\n",
            "target : In the afternoon, the North will be guided by the South to check the South ' s GP.\n",
            "inference result: In the afternoon, North Korea will check the North ' s side to the North ' s side.\n"
          ]
        },
        {
          "metadata": {
            "tags": null
          },
          "name": "stderr",
          "output_type": "stream",
          "text": [
            "validation :  63%|██████▎   | 204/326 [00:11<00:09, 13.15it/s]"
          ]
        },
        {
          "metadata": {
            "tags": null
          },
          "name": "stdout",
          "output_type": "stream",
          "text": [
            "\n",
            "== inference check ==\n",
            "target : When the way is blocked by camera, he starts to run out to the side.\n",
            "inference result: The camera begins in front of the camera and starts to arrive in the next to the door.\n"
          ]
        },
        {
          "metadata": {
            "tags": null
          },
          "name": "stderr",
          "output_type": "stream",
          "text": [
            "validation :  93%|█████████▎| 304/326 [00:17<00:01, 12.86it/s]"
          ]
        },
        {
          "metadata": {
            "tags": null
          },
          "name": "stdout",
          "output_type": "stream",
          "text": [
            "\n",
            "== inference check ==\n",
            "target : I had to walk and walk toward the starlight, looking for a star close to where I should walk.\n",
            "inference result: One place should come to find a place where the sun must go to the direction and the direction.\n"
          ]
        },
        {
          "metadata": {
            "tags": null
          },
          "name": "stderr",
          "output_type": "stream",
          "text": [
            "validation : 100%|██████████| 326/326 [00:18<00:00, 17.65it/s]\n"
          ]
        },
        {
          "metadata": {
            "tags": null
          },
          "name": "stdout",
          "output_type": "stream",
          "text": [
            "/content/drive/MyDrive/Colab Notebooks/results/transformer-ko2eng/20240801144040/TransformerModel_ep_19_loss_0.4624_lr_0.0001.pt\n"
          ]
        },
        {
          "metadata": {
            "tags": null
          },
          "name": "stderr",
          "output_type": "stream",
          "text": [
            "epoch[21]: 100%|██████████| 1520/1520 [04:32<00:00,  5.57it/s, loss=0.49045]\n",
            "validation :   1%|          | 4/326 [00:00<00:27, 11.75it/s]"
          ]
        },
        {
          "metadata": {
            "tags": null
          },
          "name": "stdout",
          "output_type": "stream",
          "text": [
            "\n",
            "== inference check ==\n",
            "target : Among them, in Seoul and Gyeonggi - do, automatically purchased consumers won.\n",
            "inference result: Among them, Gyeonggi - do and Gyeonggi - do have been purchased by consumers.\n"
          ]
        },
        {
          "metadata": {
            "tags": null
          },
          "name": "stderr",
          "output_type": "stream",
          "text": [
            "validation :  32%|███▏      | 104/326 [00:06<00:16, 13.59it/s]"
          ]
        },
        {
          "metadata": {
            "tags": null
          },
          "name": "stdout",
          "output_type": "stream",
          "text": [
            "\n",
            "== inference check ==\n",
            "target : In the afternoon, the North will be guided by the South to check the South ' s GP.\n",
            "inference result: In the afternoon, the North and the North will check the other sidewalk.\n"
          ]
        },
        {
          "metadata": {
            "tags": null
          },
          "name": "stderr",
          "output_type": "stream",
          "text": [
            "validation :  63%|██████▎   | 204/326 [00:11<00:08, 13.73it/s]"
          ]
        },
        {
          "metadata": {
            "tags": null
          },
          "name": "stdout",
          "output_type": "stream",
          "text": [
            "\n",
            "== inference check ==\n",
            "target : When the way is blocked by camera, he starts to run out to the side.\n",
            "inference result: The camera begins in front of the camera and starts to the next door.\n"
          ]
        },
        {
          "metadata": {
            "tags": null
          },
          "name": "stderr",
          "output_type": "stream",
          "text": [
            "validation :  93%|█████████▎| 304/326 [00:17<00:01, 13.22it/s]"
          ]
        },
        {
          "metadata": {
            "tags": null
          },
          "name": "stdout",
          "output_type": "stream",
          "text": [
            "\n",
            "== inference check ==\n",
            "target : I had to walk and walk toward the starlight, looking for a star close to where I should walk.\n",
            "inference result: One place was to find a place where the flowers must be held and the directions.\n"
          ]
        },
        {
          "metadata": {
            "tags": null
          },
          "name": "stderr",
          "output_type": "stream",
          "text": [
            "validation : 100%|██████████| 326/326 [00:18<00:00, 17.73it/s]\n"
          ]
        },
        {
          "metadata": {
            "tags": null
          },
          "name": "stdout",
          "output_type": "stream",
          "text": [
            "/content/drive/MyDrive/Colab Notebooks/results/transformer-ko2eng/20240801144040/TransformerModel_ep_20_loss_0.4484_lr_0.0001.pt\n"
          ]
        },
        {
          "metadata": {
            "tags": null
          },
          "name": "stderr",
          "output_type": "stream",
          "text": [
            "epoch[22]: 100%|██████████| 1520/1520 [04:32<00:00,  5.57it/s, loss=0.43036]\n",
            "validation :   1%|          | 4/326 [00:00<00:28, 11.47it/s]"
          ]
        },
        {
          "metadata": {
            "tags": null
          },
          "name": "stdout",
          "output_type": "stream",
          "text": [
            "\n",
            "== inference check ==\n",
            "target : Among them, in Seoul and Gyeonggi - do, automatically purchased consumers won.\n",
            "inference result: Among them, more than 1, 000 consumers were purchased to the Gyeonggi - do.\n"
          ]
        },
        {
          "metadata": {
            "tags": null
          },
          "name": "stderr",
          "output_type": "stream",
          "text": [
            "validation :  32%|███▏      | 104/326 [00:06<00:17, 12.61it/s]"
          ]
        },
        {
          "metadata": {
            "tags": null
          },
          "name": "stdout",
          "output_type": "stream",
          "text": [
            "\n",
            "== inference check ==\n",
            "target : In the afternoon, the North will be guided by the South to check the South ' s GP.\n",
            "inference result: In the afternoon, it is confirmed whether the North Korean side is used to guide the other sidewalk.\n"
          ]
        },
        {
          "metadata": {
            "tags": null
          },
          "name": "stderr",
          "output_type": "stream",
          "text": [
            "validation :  63%|██████▎   | 204/326 [00:11<00:08, 14.12it/s]"
          ]
        },
        {
          "metadata": {
            "tags": null
          },
          "name": "stdout",
          "output_type": "stream",
          "text": [
            "\n",
            "== inference check ==\n",
            "target : When the way is blocked by camera, he starts to run out to the side.\n",
            "inference result: A camera begins in front of the camera and opens the next floor.\n"
          ]
        },
        {
          "metadata": {
            "tags": null
          },
          "name": "stderr",
          "output_type": "stream",
          "text": [
            "validation :  93%|█████████▎| 304/326 [00:17<00:01, 11.75it/s]"
          ]
        },
        {
          "metadata": {
            "tags": null
          },
          "name": "stdout",
          "output_type": "stream",
          "text": [
            "\n",
            "== inference check ==\n",
            "target : I had to walk and walk toward the starlight, looking for a star close to where I should walk.\n",
            "inference result: One place to find a place where the table should be built and a place to go to the place where it should be seen.\n"
          ]
        },
        {
          "metadata": {
            "tags": null
          },
          "name": "stderr",
          "output_type": "stream",
          "text": [
            "validation : 100%|██████████| 326/326 [00:18<00:00, 17.60it/s]\n"
          ]
        },
        {
          "metadata": {
            "tags": null
          },
          "name": "stdout",
          "output_type": "stream",
          "text": [
            "/content/drive/MyDrive/Colab Notebooks/results/transformer-ko2eng/20240801144040/TransformerModel_ep_21_loss_0.4348_lr_0.0001.pt\n"
          ]
        },
        {
          "output_type": "stream",
          "name": "stderr",
          "text": [
            "epoch[23]: 100%|██████████| 1520/1520 [04:32<00:00,  5.57it/s, loss=0.41891]\n",
            "validation :   1%|          | 4/326 [00:00<00:26, 12.23it/s]"
          ]
        },
        {
          "output_type": "stream",
          "name": "stdout",
          "text": [
            "\n",
            "== inference check ==\n",
            "target : Among them, in Seoul and Gyeonggi - do, automatically purchased consumers won.\n",
            "inference result: Among them, Seoul and Gyeonggi - do have been purchased by consumers.\n"
          ]
        },
        {
          "output_type": "stream",
          "name": "stderr",
          "text": [
            "validation :  32%|███▏      | 104/326 [00:05<00:16, 13.29it/s]"
          ]
        },
        {
          "output_type": "stream",
          "name": "stdout",
          "text": [
            "\n",
            "== inference check ==\n",
            "target : In the afternoon, the North will be guided by the South to check the South ' s GP.\n",
            "inference result: In the afternoon, the North Korean side checks the GPPGVP.\n"
          ]
        },
        {
          "output_type": "stream",
          "name": "stderr",
          "text": [
            "validation :  63%|██████▎   | 204/326 [00:11<00:08, 14.03it/s]"
          ]
        },
        {
          "output_type": "stream",
          "name": "stdout",
          "text": [
            "\n",
            "== inference check ==\n",
            "target : When the way is blocked by camera, he starts to run out to the side.\n",
            "inference result: The camera begins in front of the camera and starts to the next door.\n"
          ]
        },
        {
          "output_type": "stream",
          "name": "stderr",
          "text": [
            "validation :  93%|█████████▎| 304/326 [00:17<00:01, 12.88it/s]"
          ]
        },
        {
          "output_type": "stream",
          "name": "stdout",
          "text": [
            "\n",
            "== inference check ==\n",
            "target : I had to walk and walk toward the starlight, looking for a star close to where I should walk.\n",
            "inference result: One place has to find a place where the table is to go to the surrounding and the valley.\n"
          ]
        },
        {
          "output_type": "stream",
          "name": "stderr",
          "text": [
            "validation : 100%|██████████| 326/326 [00:18<00:00, 17.77it/s]\n"
          ]
        },
        {
          "output_type": "stream",
          "name": "stdout",
          "text": [
            "/content/drive/MyDrive/Colab Notebooks/results/transformer-ko2eng/20240801144040/TransformerModel_ep_22_loss_0.4223_lr_0.0001.pt\n"
          ]
        },
        {
          "output_type": "stream",
          "name": "stderr",
          "text": [
            "epoch[24]: 100%|██████████| 1520/1520 [04:33<00:00,  5.57it/s, loss=0.40019]\n",
            "validation :   1%|          | 4/326 [00:00<00:30, 10.68it/s]"
          ]
        },
        {
          "output_type": "stream",
          "name": "stdout",
          "text": [
            "\n",
            "== inference check ==\n",
            "target : Among them, in Seoul and Gyeonggi - do, automatically purchased consumers won.\n",
            "inference result: Among them, a customer ' s purchase was sold into a purchase of the Gyeonggi - do Province.\n"
          ]
        },
        {
          "output_type": "stream",
          "name": "stderr",
          "text": [
            "validation :  32%|███▏      | 104/326 [00:06<00:17, 12.67it/s]"
          ]
        },
        {
          "output_type": "stream",
          "name": "stdout",
          "text": [
            "\n",
            "== inference check ==\n",
            "target : In the afternoon, the North will be guided by the South to check the South ' s GP.\n",
            "inference result: In the afternoon, the North will check the North ' s office to the North ' s sidewalk.\n"
          ]
        },
        {
          "output_type": "stream",
          "name": "stderr",
          "text": [
            "validation :  63%|██████▎   | 204/326 [00:11<00:08, 13.57it/s]"
          ]
        },
        {
          "output_type": "stream",
          "name": "stdout",
          "text": [
            "\n",
            "== inference check ==\n",
            "target : When the way is blocked by camera, he starts to run out to the side.\n",
            "inference result: The camera begins to be thrown into the car and starts to be crowned.\n"
          ]
        },
        {
          "output_type": "stream",
          "name": "stderr",
          "text": [
            "validation :  93%|█████████▎| 304/326 [00:17<00:01, 12.88it/s]"
          ]
        },
        {
          "output_type": "stream",
          "name": "stdout",
          "text": [
            "\n",
            "== inference check ==\n",
            "target : I had to walk and walk toward the starlight, looking for a star close to where I should walk.\n",
            "inference result: One place to walk to the direction and the direction you should walk to the corner of the surrounding.\n"
          ]
        },
        {
          "output_type": "stream",
          "name": "stderr",
          "text": [
            "validation : 100%|██████████| 326/326 [00:18<00:00, 17.66it/s]\n"
          ]
        },
        {
          "output_type": "stream",
          "name": "stdout",
          "text": [
            "/content/drive/MyDrive/Colab Notebooks/results/transformer-ko2eng/20240801144040/TransformerModel_ep_23_loss_0.4102_lr_0.0001.pt\n"
          ]
        },
        {
          "output_type": "stream",
          "name": "stderr",
          "text": [
            "epoch[25]: 100%|██████████| 1520/1520 [04:32<00:00,  5.57it/s, loss=0.41344]\n",
            "validation :   1%|          | 4/326 [00:00<00:30, 10.73it/s]"
          ]
        },
        {
          "output_type": "stream",
          "name": "stdout",
          "text": [
            "\n",
            "== inference check ==\n",
            "target : Among them, in Seoul and Gyeonggi - do, automatically purchased consumers won.\n",
            "inference result: Among them, Seoul and Gyeonggi - do have been able to buy a buyer product with customers.\n"
          ]
        },
        {
          "output_type": "stream",
          "name": "stderr",
          "text": [
            "validation :  32%|███▏      | 104/326 [00:06<00:17, 12.92it/s]"
          ]
        },
        {
          "output_type": "stream",
          "name": "stdout",
          "text": [
            "\n",
            "== inference check ==\n",
            "target : In the afternoon, the North will be guided by the South to check the South ' s GP.\n",
            "inference result: In the afternoon, North Korea is checking the GPR to guide the North ' s side.\n"
          ]
        },
        {
          "output_type": "stream",
          "name": "stderr",
          "text": [
            "validation :  63%|██████▎   | 204/326 [00:11<00:08, 13.92it/s]"
          ]
        },
        {
          "output_type": "stream",
          "name": "stdout",
          "text": [
            "\n",
            "== inference check ==\n",
            "target : When the way is blocked by camera, he starts to run out to the side.\n",
            "inference result: The camera begins in front of the camera and starts to the next door.\n"
          ]
        },
        {
          "output_type": "stream",
          "name": "stderr",
          "text": [
            "validation :  93%|█████████▎| 304/326 [00:17<00:01, 13.00it/s]"
          ]
        },
        {
          "output_type": "stream",
          "name": "stdout",
          "text": [
            "\n",
            "== inference check ==\n",
            "target : I had to walk and walk toward the starlight, looking for a star close to where I should walk.\n",
            "inference result: One way to walk toward the direction and the way to find a place to go to the corner.\n"
          ]
        },
        {
          "output_type": "stream",
          "name": "stderr",
          "text": [
            "validation : 100%|██████████| 326/326 [00:18<00:00, 17.72it/s]\n"
          ]
        },
        {
          "output_type": "stream",
          "name": "stdout",
          "text": [
            "/content/drive/MyDrive/Colab Notebooks/results/transformer-ko2eng/20240801144040/TransformerModel_ep_24_loss_0.3986_lr_0.0001.pt\n"
          ]
        },
        {
          "output_type": "stream",
          "name": "stderr",
          "text": [
            "epoch[26]: 100%|██████████| 1520/1520 [04:32<00:00,  5.57it/s, loss=0.39017]\n",
            "validation :   1%|          | 4/326 [00:00<00:27, 11.73it/s]"
          ]
        },
        {
          "output_type": "stream",
          "name": "stdout",
          "text": [
            "\n",
            "== inference check ==\n",
            "target : Among them, in Seoul and Gyeonggi - do, automatically purchased consumers won.\n",
            "inference result: Among them, Gyeonggi - do and Gyeonggi - do have been purchased with customers.\n"
          ]
        },
        {
          "output_type": "stream",
          "name": "stderr",
          "text": [
            "validation :  32%|███▏      | 104/326 [00:05<00:16, 13.24it/s]"
          ]
        },
        {
          "output_type": "stream",
          "name": "stdout",
          "text": [
            "\n",
            "== inference check ==\n",
            "target : In the afternoon, the North will be guided by the South to check the South ' s GP.\n",
            "inference result: In the afternoon, North Korea will check the North Korean side to the other sidewalk.\n"
          ]
        },
        {
          "output_type": "stream",
          "name": "stderr",
          "text": [
            "validation :  63%|██████▎   | 204/326 [00:11<00:09, 13.42it/s]"
          ]
        },
        {
          "output_type": "stream",
          "name": "stdout",
          "text": [
            "\n",
            "== inference check ==\n",
            "target : When the way is blocked by camera, he starts to run out to the side.\n",
            "inference result: The camera begins in front of the camera and the camera starts to the next door.\n"
          ]
        },
        {
          "output_type": "stream",
          "name": "stderr",
          "text": [
            "validation :  93%|█████████▎| 304/326 [00:17<00:01, 12.21it/s]"
          ]
        },
        {
          "output_type": "stream",
          "name": "stdout",
          "text": [
            "\n",
            "== inference check ==\n",
            "target : I had to walk and walk toward the starlight, looking for a star close to where I should walk.\n",
            "inference result: One place has to walk along the place where the separate direction is locked and looking for the place.\n"
          ]
        },
        {
          "output_type": "stream",
          "name": "stderr",
          "text": [
            "validation : 100%|██████████| 326/326 [00:18<00:00, 17.71it/s]\n"
          ]
        },
        {
          "output_type": "stream",
          "name": "stdout",
          "text": [
            "/content/drive/MyDrive/Colab Notebooks/results/transformer-ko2eng/20240801144040/TransformerModel_ep_25_loss_0.3879_lr_0.0001.pt\n"
          ]
        },
        {
          "output_type": "stream",
          "name": "stderr",
          "text": [
            "epoch[27]: 100%|██████████| 1520/1520 [04:32<00:00,  5.58it/s, loss=0.41241]\n",
            "validation :   1%|          | 4/326 [00:00<00:30, 10.72it/s]"
          ]
        },
        {
          "output_type": "stream",
          "name": "stdout",
          "text": [
            "\n",
            "== inference check ==\n",
            "target : Among them, in Seoul and Gyeonggi - do, automatically purchased consumers won.\n",
            "inference result: Among them, Seoul and Gyeonggi - do have been able to purchase consumers as much as purchasing goods.\n"
          ]
        },
        {
          "output_type": "stream",
          "name": "stderr",
          "text": [
            "validation :  32%|███▏      | 104/326 [00:06<00:17, 12.62it/s]"
          ]
        },
        {
          "output_type": "stream",
          "name": "stdout",
          "text": [
            "\n",
            "== inference check ==\n",
            "target : In the afternoon, the North will be guided by the South to check the South ' s GP.\n",
            "inference result: In the afternoon, the North Korean side corresponds to the GPPPPPR.\n"
          ]
        },
        {
          "output_type": "stream",
          "name": "stderr",
          "text": [
            "validation :  63%|██████▎   | 204/326 [00:11<00:09, 12.69it/s]"
          ]
        },
        {
          "output_type": "stream",
          "name": "stdout",
          "text": [
            "\n",
            "== inference check ==\n",
            "target : When the way is blocked by camera, he starts to run out to the side.\n",
            "inference result: The camera begins in front of the camera, and the rear is started to turn back to the door.\n"
          ]
        },
        {
          "output_type": "stream",
          "name": "stderr",
          "text": [
            "validation :  93%|█████████▎| 304/326 [00:17<00:01, 12.91it/s]"
          ]
        },
        {
          "output_type": "stream",
          "name": "stdout",
          "text": [
            "\n",
            "== inference check ==\n",
            "target : I had to walk and walk toward the starlight, looking for a star close to where I should walk.\n",
            "inference result: One separate day, I heard a place to walk with the direction that a separate direction should go.\n"
          ]
        },
        {
          "output_type": "stream",
          "name": "stderr",
          "text": [
            "validation : 100%|██████████| 326/326 [00:18<00:00, 17.63it/s]\n"
          ]
        },
        {
          "output_type": "stream",
          "name": "stdout",
          "text": [
            "/content/drive/MyDrive/Colab Notebooks/results/transformer-ko2eng/20240801144040/TransformerModel_ep_26_loss_0.3774_lr_0.0001.pt\n"
          ]
        },
        {
          "output_type": "stream",
          "name": "stderr",
          "text": [
            "epoch[28]: 100%|██████████| 1520/1520 [04:32<00:00,  5.57it/s, loss=0.37620]\n",
            "validation :   1%|          | 4/326 [00:00<00:28, 11.47it/s]"
          ]
        },
        {
          "output_type": "stream",
          "name": "stdout",
          "text": [
            "\n",
            "== inference check ==\n",
            "target : Among them, in Seoul and Gyeonggi - do, automatically purchased consumers won.\n",
            "inference result: Among them, Seoul and Gyeonggi - do have been selected as a buyer product.\n"
          ]
        },
        {
          "output_type": "stream",
          "name": "stderr",
          "text": [
            "validation :  32%|███▏      | 104/326 [00:06<00:17, 12.92it/s]"
          ]
        },
        {
          "output_type": "stream",
          "name": "stdout",
          "text": [
            "\n",
            "== inference check ==\n",
            "target : In the afternoon, the North will be guided by the South to check the South ' s GP.\n",
            "inference result: In the afternoon, North Korea will check the GPR to ask the other sidewalk.\n"
          ]
        },
        {
          "output_type": "stream",
          "name": "stderr",
          "text": [
            "validation :  63%|██████▎   | 204/326 [00:11<00:08, 14.17it/s]"
          ]
        },
        {
          "output_type": "stream",
          "name": "stdout",
          "text": [
            "\n",
            "== inference check ==\n",
            "target : When the way is blocked by camera, he starts to run out to the side.\n",
            "inference result: The camera begins in front of the camera and starts to the ground.\n"
          ]
        },
        {
          "output_type": "stream",
          "name": "stderr",
          "text": [
            "validation :  93%|█████████▎| 304/326 [00:17<00:01, 12.74it/s]"
          ]
        },
        {
          "output_type": "stream",
          "name": "stdout",
          "text": [
            "\n",
            "== inference check ==\n",
            "target : I had to walk and walk toward the starlight, looking for a star close to where I should walk.\n",
            "inference result: One separate day, I would walk toward the venue and looking for a separate way to go out.\n"
          ]
        },
        {
          "output_type": "stream",
          "name": "stderr",
          "text": [
            "validation : 100%|██████████| 326/326 [00:18<00:00, 17.76it/s]\n"
          ]
        },
        {
          "output_type": "stream",
          "name": "stdout",
          "text": [
            "/content/drive/MyDrive/Colab Notebooks/results/transformer-ko2eng/20240801144040/TransformerModel_ep_27_loss_0.3673_lr_0.0001.pt\n"
          ]
        },
        {
          "output_type": "stream",
          "name": "stderr",
          "text": [
            "epoch[29]: 100%|██████████| 1520/1520 [04:32<00:00,  5.57it/s, loss=0.36466]\n",
            "validation :   1%|          | 4/326 [00:00<00:28, 11.43it/s]"
          ]
        },
        {
          "output_type": "stream",
          "name": "stdout",
          "text": [
            "\n",
            "== inference check ==\n",
            "target : Among them, in Seoul and Gyeonggi - do, automatically purchased consumers won.\n",
            "inference result: Among them, Seoul and Gyeonggi - do have won purchased consumers with automatic purchases.\n"
          ]
        },
        {
          "output_type": "stream",
          "name": "stderr",
          "text": [
            "validation :  32%|███▏      | 104/326 [00:06<00:17, 12.55it/s]"
          ]
        },
        {
          "output_type": "stream",
          "name": "stdout",
          "text": [
            "\n",
            "== inference check ==\n",
            "target : In the afternoon, the North will be guided by the South to check the South ' s GP.\n",
            "inference result: In the afternoon, the North Korean side checks the other sidewalk and check the GPP.\n"
          ]
        },
        {
          "output_type": "stream",
          "name": "stderr",
          "text": [
            "validation :  63%|██████▎   | 204/326 [00:11<00:08, 13.64it/s]"
          ]
        },
        {
          "output_type": "stream",
          "name": "stdout",
          "text": [
            "\n",
            "== inference check ==\n",
            "target : When the way is blocked by camera, he starts to run out to the side.\n",
            "inference result: The camera starts with a car next to the next door and starts to the ground.\n"
          ]
        },
        {
          "output_type": "stream",
          "name": "stderr",
          "text": [
            "validation :  93%|█████████▎| 304/326 [00:17<00:01, 12.35it/s]"
          ]
        },
        {
          "output_type": "stream",
          "name": "stdout",
          "text": [
            "\n",
            "== inference check ==\n",
            "target : I had to walk and walk toward the starlight, looking for a star close to where I should walk.\n",
            "inference result: One place has come to see if there is a separate direction and a separate direction for a separate direction.\n"
          ]
        },
        {
          "output_type": "stream",
          "name": "stderr",
          "text": [
            "validation : 100%|██████████| 326/326 [00:18<00:00, 17.66it/s]\n"
          ]
        },
        {
          "output_type": "stream",
          "name": "stdout",
          "text": [
            "/content/drive/MyDrive/Colab Notebooks/results/transformer-ko2eng/20240801144040/TransformerModel_ep_28_loss_0.3578_lr_0.0001.pt\n"
          ]
        },
        {
          "output_type": "stream",
          "name": "stderr",
          "text": [
            "epoch[30]: 100%|██████████| 1520/1520 [04:32<00:00,  5.58it/s, loss=0.38338]\n",
            "validation :   1%|          | 4/326 [00:00<00:29, 10.93it/s]"
          ]
        },
        {
          "output_type": "stream",
          "name": "stdout",
          "text": [
            "\n",
            "== inference check ==\n",
            "target : Among them, in Seoul and Gyeonggi - do, automatically purchased consumers won.\n",
            "inference result: Among them, Seoul and Gyeonggi - do have been selected as a product that purchases.\n"
          ]
        },
        {
          "output_type": "stream",
          "name": "stderr",
          "text": [
            "validation :  32%|███▏      | 104/326 [00:06<00:17, 12.59it/s]"
          ]
        },
        {
          "output_type": "stream",
          "name": "stdout",
          "text": [
            "\n",
            "== inference check ==\n",
            "target : In the afternoon, the North will be guided by the South to check the South ' s GP.\n",
            "inference result: In the afternoon, the North Korea is checking the GPR to send a guide to the other side.\n"
          ]
        },
        {
          "output_type": "stream",
          "name": "stderr",
          "text": [
            "validation :  63%|██████▎   | 204/326 [00:11<00:09, 13.10it/s]"
          ]
        },
        {
          "output_type": "stream",
          "name": "stdout",
          "text": [
            "\n",
            "== inference check ==\n",
            "target : When the way is blocked by camera, he starts to run out to the side.\n",
            "inference result: The camera begins in front of the camera and starts to see the moon next to the car.\n"
          ]
        },
        {
          "output_type": "stream",
          "name": "stderr",
          "text": [
            "validation :  93%|█████████▎| 304/326 [00:17<00:01, 12.29it/s]"
          ]
        },
        {
          "output_type": "stream",
          "name": "stdout",
          "text": [
            "\n",
            "== inference check ==\n",
            "target : I had to walk and walk toward the starlight, looking for a star close to where I should walk.\n",
            "inference result: One place to walk with the way to see if a separate direction is coming to the place where it is coming.\n"
          ]
        },
        {
          "output_type": "stream",
          "name": "stderr",
          "text": [
            "validation : 100%|██████████| 326/326 [00:18<00:00, 17.56it/s]\n"
          ]
        },
        {
          "output_type": "stream",
          "name": "stdout",
          "text": [
            "/content/drive/MyDrive/Colab Notebooks/results/transformer-ko2eng/20240801144040/TransformerModel_ep_29_loss_0.3490_lr_0.0001.pt\n"
          ]
        },
        {
          "output_type": "stream",
          "name": "stderr",
          "text": [
            "epoch[31]: 100%|██████████| 1520/1520 [04:32<00:00,  5.58it/s, loss=0.35399]\n",
            "validation :   1%|          | 4/326 [00:00<00:28, 11.17it/s]"
          ]
        },
        {
          "output_type": "stream",
          "name": "stdout",
          "text": [
            "\n",
            "== inference check ==\n",
            "target : Among them, in Seoul and Gyeonggi - do, automatically purchased consumers won.\n",
            "inference result: Among them, Seoul and Gyeonggi - do have won a pre - orders packaged goods.\n"
          ]
        },
        {
          "output_type": "stream",
          "name": "stderr",
          "text": [
            "validation :  32%|███▏      | 104/326 [00:06<00:17, 12.76it/s]"
          ]
        },
        {
          "output_type": "stream",
          "name": "stdout",
          "text": [
            "\n",
            "== inference check ==\n",
            "target : In the afternoon, the North will be guided by the South to check the South ' s GP.\n",
            "inference result: In the afternoon, the North Korea is checking the GPR to send a guide to the south.\n"
          ]
        },
        {
          "output_type": "stream",
          "name": "stderr",
          "text": [
            "validation :  63%|██████▎   | 204/326 [00:11<00:09, 13.17it/s]"
          ]
        },
        {
          "output_type": "stream",
          "name": "stdout",
          "text": [
            "\n",
            "== inference check ==\n",
            "target : When the way is blocked by camera, he starts to run out to the side.\n",
            "inference result: The camera will be blocked by the camera and the camera will begin to be hit next month.\n"
          ]
        },
        {
          "output_type": "stream",
          "name": "stderr",
          "text": [
            "validation :  93%|█████████▎| 304/326 [00:17<00:01, 13.09it/s]"
          ]
        },
        {
          "output_type": "stream",
          "name": "stdout",
          "text": [
            "\n",
            "== inference check ==\n",
            "target : I had to walk and walk toward the starlight, looking for a star close to where I should walk.\n",
            "inference result: One separate way to walk along the direction and looking at the direction you need to walk along.\n"
          ]
        },
        {
          "output_type": "stream",
          "name": "stderr",
          "text": [
            "validation : 100%|██████████| 326/326 [00:18<00:00, 17.74it/s]\n"
          ]
        },
        {
          "output_type": "stream",
          "name": "stdout",
          "text": [
            "/content/drive/MyDrive/Colab Notebooks/results/transformer-ko2eng/20240801144040/TransformerModel_ep_30_loss_0.3400_lr_0.0001.pt\n"
          ]
        },
        {
          "output_type": "stream",
          "name": "stderr",
          "text": [
            "epoch[32]: 100%|██████████| 1520/1520 [04:32<00:00,  5.58it/s, loss=0.31353]\n",
            "validation :   1%|          | 4/326 [00:00<00:26, 12.00it/s]"
          ]
        },
        {
          "output_type": "stream",
          "name": "stdout",
          "text": [
            "\n",
            "== inference check ==\n",
            "target : Among them, in Seoul and Gyeonggi - do, automatically purchased consumers won.\n",
            "inference result: Among them, Seoul and Gyeonggi - do purchased the winners with automakers.\n"
          ]
        },
        {
          "output_type": "stream",
          "name": "stderr",
          "text": [
            "validation :  32%|███▏      | 104/326 [00:06<00:17, 12.80it/s]"
          ]
        },
        {
          "output_type": "stream",
          "name": "stdout",
          "text": [
            "\n",
            "== inference check ==\n",
            "target : In the afternoon, the North will be guided by the South to check the South ' s GP.\n",
            "inference result: In the afternoon, the North Korean sends an official request to the other side to get off.\n"
          ]
        },
        {
          "output_type": "stream",
          "name": "stderr",
          "text": [
            "validation :  63%|██████▎   | 204/326 [00:11<00:08, 13.64it/s]"
          ]
        },
        {
          "output_type": "stream",
          "name": "stdout",
          "text": [
            "\n",
            "== inference check ==\n",
            "target : When the way is blocked by camera, he starts to run out to the side.\n",
            "inference result: The camera begins in front of the camera and starts to hit the next door.\n"
          ]
        },
        {
          "output_type": "stream",
          "name": "stderr",
          "text": [
            "validation :  93%|█████████▎| 304/326 [00:17<00:01, 13.05it/s]"
          ]
        },
        {
          "output_type": "stream",
          "name": "stdout",
          "text": [
            "\n",
            "== inference check ==\n",
            "target : I had to walk and walk toward the starlight, looking for a star close to where I should walk.\n",
            "inference result: One place was waiting for me to walk along with the direction that a separate direction is coming.\n"
          ]
        },
        {
          "output_type": "stream",
          "name": "stderr",
          "text": [
            "validation : 100%|██████████| 326/326 [00:18<00:00, 17.75it/s]\n"
          ]
        },
        {
          "output_type": "stream",
          "name": "stdout",
          "text": [
            "/content/drive/MyDrive/Colab Notebooks/results/transformer-ko2eng/20240801144040/TransformerModel_ep_31_loss_0.3319_lr_0.0001.pt\n"
          ]
        },
        {
          "output_type": "stream",
          "name": "stderr",
          "text": [
            "epoch[33]: 100%|██████████| 1520/1520 [04:32<00:00,  5.58it/s, loss=0.32808]\n",
            "validation :   1%|          | 4/326 [00:00<00:26, 12.28it/s]"
          ]
        },
        {
          "output_type": "stream",
          "name": "stdout",
          "text": [
            "\n",
            "== inference check ==\n",
            "target : Among them, in Seoul and Gyeonggi - do, automatically purchased consumers won.\n",
            "inference result: Among them, Seoul and Gyeonggi - do purchased goods with automakers.\n"
          ]
        },
        {
          "output_type": "stream",
          "name": "stderr",
          "text": [
            "validation :  32%|███▏      | 104/326 [00:05<00:16, 13.13it/s]"
          ]
        },
        {
          "output_type": "stream",
          "name": "stdout",
          "text": [
            "\n",
            "== inference check ==\n",
            "target : In the afternoon, the North will be guided by the South to check the South ' s GP.\n",
            "inference result: In the afternoon, the North will check the other side to check the GPPR.\n"
          ]
        },
        {
          "output_type": "stream",
          "name": "stderr",
          "text": [
            "validation :  63%|██████▎   | 204/326 [00:11<00:09, 12.33it/s]"
          ]
        },
        {
          "output_type": "stream",
          "name": "stdout",
          "text": [
            "\n",
            "== inference check ==\n",
            "target : When the way is blocked by camera, he starts to run out to the side.\n",
            "inference result: When the camera is blocked in front of the camera, he begins to hit a back next to the next door.\n"
          ]
        },
        {
          "output_type": "stream",
          "name": "stderr",
          "text": [
            "validation :  93%|█████████▎| 304/326 [00:17<00:01, 13.51it/s]"
          ]
        },
        {
          "output_type": "stream",
          "name": "stdout",
          "text": [
            "\n",
            "== inference check ==\n",
            "target : I had to walk and walk toward the starlight, looking for a star close to where I should walk.\n",
            "inference result: One place should walk slowly on the way to find out where the star must go.\n"
          ]
        },
        {
          "output_type": "stream",
          "name": "stderr",
          "text": [
            "validation : 100%|██████████| 326/326 [00:18<00:00, 17.74it/s]\n"
          ]
        },
        {
          "output_type": "stream",
          "name": "stdout",
          "text": [
            "/content/drive/MyDrive/Colab Notebooks/results/transformer-ko2eng/20240801144040/TransformerModel_ep_32_loss_0.3240_lr_0.0001.pt\n"
          ]
        },
        {
          "output_type": "stream",
          "name": "stderr",
          "text": [
            "epoch[34]: 100%|██████████| 1520/1520 [04:32<00:00,  5.58it/s, loss=0.30007]\n",
            "validation :   1%|          | 4/326 [00:00<00:28, 11.44it/s]"
          ]
        },
        {
          "output_type": "stream",
          "name": "stdout",
          "text": [
            "\n",
            "== inference check ==\n",
            "target : Among them, in Seoul and Gyeonggi - do, automatically purchased consumers won.\n",
            "inference result: Among them, Seoul and Gyeonggi - do have won the winner ' s own customer.\n"
          ]
        },
        {
          "output_type": "stream",
          "name": "stderr",
          "text": [
            "validation :  32%|███▏      | 104/326 [00:06<00:16, 13.28it/s]"
          ]
        },
        {
          "output_type": "stream",
          "name": "stdout",
          "text": [
            "\n",
            "== inference check ==\n",
            "target : In the afternoon, the North will be guided by the South to check the South ' s GP.\n",
            "inference result: In the afternoon, North Korea checks the GPP account to check the other side.\n"
          ]
        },
        {
          "output_type": "stream",
          "name": "stderr",
          "text": [
            "validation :  63%|██████▎   | 204/326 [00:11<00:09, 12.25it/s]"
          ]
        },
        {
          "output_type": "stream",
          "name": "stdout",
          "text": [
            "\n",
            "== inference check ==\n",
            "target : When the way is blocked by camera, he starts to run out to the side.\n",
            "inference result: As soon as the camera came in front of the camera, the car begins to be hit back and begin to death.\n"
          ]
        },
        {
          "output_type": "stream",
          "name": "stderr",
          "text": [
            "validation :  93%|█████████▎| 304/326 [00:17<00:01, 12.72it/s]"
          ]
        },
        {
          "output_type": "stream",
          "name": "stdout",
          "text": [
            "\n",
            "== inference check ==\n",
            "target : I had to walk and walk toward the starlight, looking for a star close to where I should walk.\n",
            "inference result: One place has to walk with the direction that a separate direction is coming to the side of the side.\n"
          ]
        },
        {
          "output_type": "stream",
          "name": "stderr",
          "text": [
            "validation : 100%|██████████| 326/326 [00:18<00:00, 17.66it/s]\n"
          ]
        },
        {
          "output_type": "stream",
          "name": "stdout",
          "text": [
            "/content/drive/MyDrive/Colab Notebooks/results/transformer-ko2eng/20240801144040/TransformerModel_ep_33_loss_0.3163_lr_0.0001.pt\n"
          ]
        },
        {
          "output_type": "stream",
          "name": "stderr",
          "text": [
            "epoch[35]: 100%|██████████| 1520/1520 [04:32<00:00,  5.58it/s, loss=0.27894]\n",
            "validation :   1%|          | 4/326 [00:00<00:26, 12.06it/s]"
          ]
        },
        {
          "output_type": "stream",
          "name": "stdout",
          "text": [
            "\n",
            "== inference check ==\n",
            "target : Among them, in Seoul and Gyeonggi - do, automatically purchased consumers won.\n",
            "inference result: Among them, Seoul and Gyeonggi - do have been selected as automakers.\n"
          ]
        },
        {
          "output_type": "stream",
          "name": "stderr",
          "text": [
            "validation :  32%|███▏      | 104/326 [00:06<00:17, 12.90it/s]"
          ]
        },
        {
          "output_type": "stream",
          "name": "stdout",
          "text": [
            "\n",
            "== inference check ==\n",
            "target : In the afternoon, the North will be guided by the South to check the South ' s GP.\n",
            "inference result: In the afternoon, North Korea is checking to the GP account of the North ' s office.\n"
          ]
        },
        {
          "output_type": "stream",
          "name": "stderr",
          "text": [
            "validation :  63%|██████▎   | 205/326 [00:11<00:08, 14.15it/s]"
          ]
        },
        {
          "output_type": "stream",
          "name": "stdout",
          "text": [
            "\n",
            "== inference check ==\n",
            "target : When the way is blocked by camera, he starts to run out to the side.\n",
            "inference result: As soon as the camera was blocked, the camera starts to hit the next door.\n"
          ]
        },
        {
          "output_type": "stream",
          "name": "stderr",
          "text": [
            "validation :  93%|█████████▎| 304/326 [00:17<00:01, 14.18it/s]"
          ]
        },
        {
          "output_type": "stream",
          "name": "stdout",
          "text": [
            "\n",
            "== inference check ==\n",
            "target : I had to walk and walk toward the starlight, looking for a star close to where I should walk.\n",
            "inference result: One place where the stars must walk and the direction of the seemingly walking.\n"
          ]
        },
        {
          "output_type": "stream",
          "name": "stderr",
          "text": [
            "validation : 100%|██████████| 326/326 [00:18<00:00, 17.79it/s]\n"
          ]
        },
        {
          "output_type": "stream",
          "name": "stdout",
          "text": [
            "/content/drive/MyDrive/Colab Notebooks/results/transformer-ko2eng/20240801144040/TransformerModel_ep_34_loss_0.3088_lr_0.0001.pt\n"
          ]
        },
        {
          "output_type": "stream",
          "name": "stderr",
          "text": [
            "epoch[36]: 100%|██████████| 1520/1520 [04:32<00:00,  5.58it/s, loss=0.28930]\n",
            "validation :   1%|          | 4/326 [00:00<00:29, 10.81it/s]"
          ]
        },
        {
          "output_type": "stream",
          "name": "stdout",
          "text": [
            "\n",
            "== inference check ==\n",
            "target : Among them, in Seoul and Gyeonggi - do, automatically purchased consumers won.\n",
            "inference result: Among them, Seoul and Gyeonggi - do have won the winner to purchase products with automatic products.\n"
          ]
        },
        {
          "output_type": "stream",
          "name": "stderr",
          "text": [
            "validation :  32%|███▏      | 104/326 [00:06<00:16, 13.29it/s]"
          ]
        },
        {
          "output_type": "stream",
          "name": "stdout",
          "text": [
            "\n",
            "== inference check ==\n",
            "target : In the afternoon, the North will be guided by the South to check the South ' s GP.\n",
            "inference result: In the afternoon, North Korea checks GPR to check the other sidewalk.\n"
          ]
        },
        {
          "output_type": "stream",
          "name": "stderr",
          "text": [
            "validation :  63%|██████▎   | 204/326 [00:11<00:09, 12.25it/s]"
          ]
        },
        {
          "output_type": "stream",
          "name": "stdout",
          "text": [
            "\n",
            "== inference check ==\n",
            "target : When the way is blocked by camera, he starts to run out to the side.\n",
            "inference result: As I can see the camera in front of the camera, I start to see the boat next to the boat.\n"
          ]
        },
        {
          "output_type": "stream",
          "name": "stderr",
          "text": [
            "validation :  93%|█████████▎| 304/326 [00:17<00:01, 12.84it/s]"
          ]
        },
        {
          "output_type": "stream",
          "name": "stdout",
          "text": [
            "\n",
            "== inference check ==\n",
            "target : I had to walk and walk toward the starlight, looking for a star close to where I should walk.\n",
            "inference result: One place to walk toward one side and out of the busy direction that Byul had to go.\n"
          ]
        },
        {
          "output_type": "stream",
          "name": "stderr",
          "text": [
            "validation : 100%|██████████| 326/326 [00:18<00:00, 17.64it/s]\n"
          ]
        },
        {
          "output_type": "stream",
          "name": "stdout",
          "text": [
            "/content/drive/MyDrive/Colab Notebooks/results/transformer-ko2eng/20240801144040/TransformerModel_ep_35_loss_0.3019_lr_0.0001.pt\n"
          ]
        },
        {
          "output_type": "stream",
          "name": "stderr",
          "text": [
            "epoch[37]: 100%|██████████| 1520/1520 [04:32<00:00,  5.58it/s, loss=0.27131]\n",
            "validation :   1%|          | 4/326 [00:00<00:28, 11.20it/s]"
          ]
        },
        {
          "output_type": "stream",
          "name": "stdout",
          "text": [
            "\n",
            "== inference check ==\n",
            "target : Among them, in Seoul and Gyeonggi - do, automatically purchased consumers won.\n",
            "inference result: Among them, Seoul and Gyeonggi - do purchased the benefits that purchased products with automatic.\n"
          ]
        },
        {
          "output_type": "stream",
          "name": "stderr",
          "text": [
            "validation :  32%|███▏      | 104/326 [00:06<00:15, 13.92it/s]"
          ]
        },
        {
          "output_type": "stream",
          "name": "stdout",
          "text": [
            "\n",
            "== inference check ==\n",
            "target : In the afternoon, the North will be guided by the South to check the South ' s GP.\n",
            "inference result: In the afternoon, North Korea checks the other sidewalk to check the GPP.\n"
          ]
        },
        {
          "output_type": "stream",
          "name": "stderr",
          "text": [
            "validation :  63%|██████▎   | 204/326 [00:11<00:09, 13.36it/s]"
          ]
        },
        {
          "output_type": "stream",
          "name": "stdout",
          "text": [
            "\n",
            "== inference check ==\n",
            "target : When the way is blocked by camera, he starts to run out to the side.\n",
            "inference result: The camera starts in front of the camera and starts to bottom from next to the boat.\n"
          ]
        },
        {
          "output_type": "stream",
          "name": "stderr",
          "text": [
            "validation :  93%|█████████▎| 304/326 [00:17<00:01, 13.05it/s]"
          ]
        },
        {
          "output_type": "stream",
          "name": "stdout",
          "text": [
            "\n",
            "== inference check ==\n",
            "target : I had to walk and walk toward the starlight, looking for a star close to where I should walk.\n",
            "inference result: One place has to walk toward a star where a star walking and looking for a stare.\n"
          ]
        },
        {
          "output_type": "stream",
          "name": "stderr",
          "text": [
            "validation : 100%|██████████| 326/326 [00:18<00:00, 17.72it/s]\n"
          ]
        },
        {
          "output_type": "stream",
          "name": "stdout",
          "text": [
            "/content/drive/MyDrive/Colab Notebooks/results/transformer-ko2eng/20240801144040/TransformerModel_ep_36_loss_0.2950_lr_0.0001.pt\n"
          ]
        },
        {
          "output_type": "stream",
          "name": "stderr",
          "text": [
            "epoch[38]: 100%|██████████| 1520/1520 [04:32<00:00,  5.59it/s, loss=0.29036]\n",
            "validation :   1%|          | 4/326 [00:00<00:30, 10.69it/s]"
          ]
        },
        {
          "output_type": "stream",
          "name": "stdout",
          "text": [
            "\n",
            "== inference check ==\n",
            "target : Among them, in Seoul and Gyeonggi - do, automatically purchased consumers won.\n",
            "inference result: Among them, Seoul and Gyeonggi - do have won the order to purchase products with automatic customers.\n"
          ]
        },
        {
          "output_type": "stream",
          "name": "stderr",
          "text": [
            "validation :  32%|███▏      | 104/326 [00:06<00:17, 12.85it/s]"
          ]
        },
        {
          "output_type": "stream",
          "name": "stdout",
          "text": [
            "\n",
            "== inference check ==\n",
            "target : In the afternoon, the North will be guided by the South to check the South ' s GP.\n",
            "inference result: In the afternoon, North Korea is checking to check the North ' s side to the South side.\n"
          ]
        },
        {
          "output_type": "stream",
          "name": "stderr",
          "text": [
            "validation :  63%|██████▎   | 204/326 [00:11<00:09, 12.97it/s]"
          ]
        },
        {
          "output_type": "stream",
          "name": "stdout",
          "text": [
            "\n",
            "== inference check ==\n",
            "target : When the way is blocked by camera, he starts to run out to the side.\n",
            "inference result: As you can see in front of the camera, you will start inside the car next to it.\n"
          ]
        },
        {
          "output_type": "stream",
          "name": "stderr",
          "text": [
            "validation :  93%|█████████▎| 304/326 [00:17<00:01, 13.72it/s]"
          ]
        },
        {
          "output_type": "stream",
          "name": "stdout",
          "text": [
            "\n",
            "== inference check ==\n",
            "target : I had to walk and walk toward the starlight, looking for a star close to where I should walk.\n",
            "inference result: One separate path to walk along the side dish where the stars must go anywhere.\n"
          ]
        },
        {
          "output_type": "stream",
          "name": "stderr",
          "text": [
            "validation : 100%|██████████| 326/326 [00:18<00:00, 17.73it/s]\n"
          ]
        },
        {
          "output_type": "stream",
          "name": "stdout",
          "text": [
            "/content/drive/MyDrive/Colab Notebooks/results/transformer-ko2eng/20240801144040/TransformerModel_ep_37_loss_0.2885_lr_0.0001.pt\n"
          ]
        },
        {
          "output_type": "stream",
          "name": "stderr",
          "text": [
            "epoch[39]: 100%|██████████| 1520/1520 [04:32<00:00,  5.59it/s, loss=0.29732]\n",
            "validation :   1%|          | 4/326 [00:00<00:26, 11.96it/s]"
          ]
        },
        {
          "output_type": "stream",
          "name": "stdout",
          "text": [
            "\n",
            "== inference check ==\n",
            "target : Among them, in Seoul and Gyeonggi - do, automatically purchased consumers won.\n",
            "inference result: Among them, Seoul and Gyeonggi - do purchased consumers with automaticties.\n"
          ]
        },
        {
          "output_type": "stream",
          "name": "stderr",
          "text": [
            "validation :  32%|███▏      | 104/326 [00:05<00:16, 13.24it/s]"
          ]
        },
        {
          "output_type": "stream",
          "name": "stdout",
          "text": [
            "\n",
            "== inference check ==\n",
            "target : In the afternoon, the North will be guided by the South to check the South ' s GP.\n",
            "inference result: In the afternoon, the North will check the GP to check the other sidewalk.\n"
          ]
        },
        {
          "output_type": "stream",
          "name": "stderr",
          "text": [
            "validation :  63%|██████▎   | 204/326 [00:11<00:08, 14.04it/s]"
          ]
        },
        {
          "output_type": "stream",
          "name": "stdout",
          "text": [
            "\n",
            "== inference check ==\n",
            "target : When the way is blocked by camera, he starts to run out to the side.\n",
            "inference result: The camera will start inside the front door and start with a screams.\n"
          ]
        },
        {
          "output_type": "stream",
          "name": "stderr",
          "text": [
            "validation :  93%|█████████▎| 304/326 [00:17<00:01, 12.89it/s]"
          ]
        },
        {
          "output_type": "stream",
          "name": "stdout",
          "text": [
            "\n",
            "== inference check ==\n",
            "target : I had to walk and walk toward the starlight, looking for a star close to where I should walk.\n",
            "inference result: One way to walk along the corner and looking at the direction that Byul had to walk along.\n"
          ]
        },
        {
          "output_type": "stream",
          "name": "stderr",
          "text": [
            "validation : 100%|██████████| 326/326 [00:18<00:00, 17.82it/s]\n"
          ]
        },
        {
          "output_type": "stream",
          "name": "stdout",
          "text": [
            "/content/drive/MyDrive/Colab Notebooks/results/transformer-ko2eng/20240801144040/TransformerModel_ep_38_loss_0.2823_lr_0.0001.pt\n"
          ]
        },
        {
          "output_type": "stream",
          "name": "stderr",
          "text": [
            "epoch[40]: 100%|██████████| 1520/1520 [04:31<00:00,  5.59it/s, loss=0.29467]\n",
            "validation :   1%|          | 4/326 [00:00<00:28, 11.43it/s]"
          ]
        },
        {
          "output_type": "stream",
          "name": "stdout",
          "text": [
            "\n",
            "== inference check ==\n",
            "target : Among them, in Seoul and Gyeonggi - do, automatically purchased consumers won.\n",
            "inference result: Among them, Seoul and Gyeonggi - do have won the winner with automatic purchase.\n"
          ]
        },
        {
          "output_type": "stream",
          "name": "stderr",
          "text": [
            "validation :  32%|███▏      | 104/326 [00:05<00:16, 13.33it/s]"
          ]
        },
        {
          "output_type": "stream",
          "name": "stdout",
          "text": [
            "\n",
            "== inference check ==\n",
            "target : In the afternoon, the North will be guided by the South to check the South ' s GP.\n",
            "inference result: In the afternoon, North Korea checks the North ' s side to check the other side.\n"
          ]
        },
        {
          "output_type": "stream",
          "name": "stderr",
          "text": [
            "validation :  63%|██████▎   | 204/326 [00:11<00:09, 12.86it/s]"
          ]
        },
        {
          "output_type": "stream",
          "name": "stdout",
          "text": [
            "\n",
            "== inference check ==\n",
            "target : When the way is blocked by camera, he starts to run out to the side.\n",
            "inference result: When the camera is blocked in front of the camera, it starts to hit the back next door.\n"
          ]
        },
        {
          "output_type": "stream",
          "name": "stderr",
          "text": [
            "validation :  93%|█████████▎| 304/326 [00:17<00:01, 12.98it/s]"
          ]
        },
        {
          "output_type": "stream",
          "name": "stdout",
          "text": [
            "\n",
            "== inference check ==\n",
            "target : I had to walk and walk toward the starlight, looking for a star close to where I should walk.\n",
            "inference result: Wherever one place is walking around, I had to walk around with a starlight.\n"
          ]
        },
        {
          "output_type": "stream",
          "name": "stderr",
          "text": [
            "validation : 100%|██████████| 326/326 [00:18<00:00, 17.74it/s]\n"
          ]
        },
        {
          "output_type": "stream",
          "name": "stdout",
          "text": [
            "/content/drive/MyDrive/Colab Notebooks/results/transformer-ko2eng/20240801144040/TransformerModel_ep_39_loss_0.2765_lr_0.0001.pt\n"
          ]
        },
        {
          "output_type": "stream",
          "name": "stderr",
          "text": [
            "epoch[41]: 100%|██████████| 1520/1520 [04:31<00:00,  5.59it/s, loss=0.28442]\n",
            "validation :   1%|          | 4/326 [00:00<00:27, 11.70it/s]"
          ]
        },
        {
          "output_type": "stream",
          "name": "stdout",
          "text": [
            "\n",
            "== inference check ==\n",
            "target : Among them, in Seoul and Gyeonggi - do, automatically purchased consumers won.\n",
            "inference result: Among them, Seoul and Gyeonggi - do have awarded products to automatic consumers.\n"
          ]
        },
        {
          "output_type": "stream",
          "name": "stderr",
          "text": [
            "validation :  32%|███▏      | 104/326 [00:05<00:16, 13.62it/s]"
          ]
        },
        {
          "output_type": "stream",
          "name": "stdout",
          "text": [
            "\n",
            "== inference check ==\n",
            "target : In the afternoon, the North will be guided by the South to check the South ' s GP.\n",
            "inference result: In the afternoon, North Korea checks the South Korean side to check the cage.\n"
          ]
        },
        {
          "output_type": "stream",
          "name": "stderr",
          "text": [
            "validation :  63%|██████▎   | 204/326 [00:11<00:09, 13.30it/s]"
          ]
        },
        {
          "output_type": "stream",
          "name": "stdout",
          "text": [
            "\n",
            "== inference check ==\n",
            "target : When the way is blocked by camera, he starts to run out to the side.\n",
            "inference result: When the camera is blocked in front of the camera, the car starts to be seen.\n"
          ]
        },
        {
          "output_type": "stream",
          "name": "stderr",
          "text": [
            "validation :  93%|█████████▎| 304/326 [00:17<00:01, 12.77it/s]"
          ]
        },
        {
          "output_type": "stream",
          "name": "stdout",
          "text": [
            "\n",
            "== inference check ==\n",
            "target : I had to walk and walk toward the starlight, looking for a star close to where I should walk.\n",
            "inference result: One star must walk to the place where it is close to the direction and where it is near.\n"
          ]
        },
        {
          "output_type": "stream",
          "name": "stderr",
          "text": [
            "validation : 100%|██████████| 326/326 [00:18<00:00, 17.79it/s]\n"
          ]
        },
        {
          "output_type": "stream",
          "name": "stdout",
          "text": [
            "/content/drive/MyDrive/Colab Notebooks/results/transformer-ko2eng/20240801144040/TransformerModel_ep_40_loss_0.2705_lr_0.0001.pt\n"
          ]
        },
        {
          "output_type": "stream",
          "name": "stderr",
          "text": [
            "epoch[42]: 100%|██████████| 1520/1520 [04:31<00:00,  5.59it/s, loss=0.30426]\n",
            "validation :   1%|          | 4/326 [00:00<00:29, 11.03it/s]"
          ]
        },
        {
          "output_type": "stream",
          "name": "stdout",
          "text": [
            "\n",
            "== inference check ==\n",
            "target : Among them, in Seoul and Gyeonggi - do, automatically purchased consumers won.\n",
            "inference result: Among them, Seoul and Gyeonggi - do have been awarded to those who bought automatic products.\n"
          ]
        },
        {
          "output_type": "stream",
          "name": "stderr",
          "text": [
            "validation :  32%|███▏      | 104/326 [00:06<00:18, 12.12it/s]"
          ]
        },
        {
          "output_type": "stream",
          "name": "stdout",
          "text": [
            "\n",
            "== inference check ==\n",
            "target : In the afternoon, the North will be guided by the South to check the South ' s GP.\n",
            "inference result: In the afternoon, North Korea sends GP GP GP GP to check the direction of the North.\n"
          ]
        },
        {
          "output_type": "stream",
          "name": "stderr",
          "text": [
            "validation :  63%|██████▎   | 205/326 [00:11<00:09, 13.36it/s]"
          ]
        },
        {
          "output_type": "stream",
          "name": "stdout",
          "text": [
            "\n",
            "== inference check ==\n",
            "target : When the way is blocked by camera, he starts to run out to the side.\n",
            "inference result: As soon as the camera bells in front of him, the next door starts to the next door.\n"
          ]
        },
        {
          "output_type": "stream",
          "name": "stderr",
          "text": [
            "validation :  93%|█████████▎| 304/326 [00:17<00:01, 13.64it/s]"
          ]
        },
        {
          "output_type": "stream",
          "name": "stdout",
          "text": [
            "\n",
            "== inference check ==\n",
            "target : I had to walk and walk toward the starlight, looking for a star close to where I should walk.\n",
            "inference result: One side of the stars he / she walked towards the sunny road and looking at a star.\n"
          ]
        },
        {
          "output_type": "stream",
          "name": "stderr",
          "text": [
            "validation : 100%|██████████| 326/326 [00:18<00:00, 17.63it/s]"
          ]
        },
        {
          "output_type": "stream",
          "name": "stdout",
          "text": [
            "Early stopping at epoch 41\n"
          ]
        },
        {
          "output_type": "stream",
          "name": "stderr",
          "text": [
            "\n"
          ]
        }
      ]
    },
    {
      "cell_type": "code",
      "source": [
        "import matplotlib.pyplot as plt\n",
        "\n",
        "plt.plot(train_loss_history, label=\"train\")\n",
        "plt.plot(val_loss_history, label=\"val\")\n",
        "plt.legend()\n",
        "plt.show()"
      ],
      "metadata": {
        "colab": {
          "base_uri": "https://localhost:8080/",
          "height": 430
        },
        "id": "_zGv0hCEYCg8",
        "outputId": "6527a8ac-5418-4cfc-99cb-594ec6a8aab3"
      },
      "execution_count": 59,
      "outputs": [
        {
          "output_type": "display_data",
          "data": {
            "text/plain": [
              "<Figure size 640x480 with 1 Axes>"
            ],
            "image/png": "[encoded data removed]"
          },
          "metadata": {}
        }
      ]
    },
    {
      "cell_type": "code",
      "source": [
        "model = TransformerModel(config)\n",
        "criterion = nn.CrossEntropyLoss()\n",
        "optimizer = torch.optim.AdamW(model.parameters(), lr=1e-4, weight_decay=0.01)\n",
        "trainer = Trainer(config, model, train_dl, val_dl, test_dl, criterion, optimizer, src_tokenizer, tgt_tokenizer)\n",
        "\n",
        "\n",
        "last_model_path = \"/content/drive/MyDrive/Colab Notebooks/results/transformer-ko2eng/20240801144040/TransformerModel_ep_40_loss_0.2705_lr_0.0001.pt\"\n",
        "model.load_state_dict(torch.load(last_model_path))\n",
        "model = model.to(config['device'])\n",
        "\n",
        "trainer.test()"
      ],
      "metadata": {
        "colab": {
          "base_uri": "https://localhost:8080/"
        },
        "id": "xLPF28nrudVa",
        "outputId": "0004cd1a-e272-441c-c740-5918101d78e6"
      },
      "execution_count": 12,
      "outputs": [
        {
          "output_type": "stream",
          "name": "stderr",
          "text": [
            "/usr/local/lib/python3.10/dist-packages/torch/nn/modules/transformer.py:306: UserWarning: enable_nested_tensor is True, but self.use_nested_tensor is False because encoder_layer.self_attn.batch_first was not True(use batch_first for better inference performance)\n",
            "  warnings.warn(f\"enable_nested_tensor is True, but self.use_nested_tensor is False because {why_not_sparsity_fast_path}\")\n",
            "test :   0%|          | 0/326 [00:05<?, ?it/s]"
          ]
        },
        {
          "output_type": "stream",
          "name": "stdout",
          "text": [
            "\n",
            "input: 북한이 최근 군 수뇌부 3인방을 전면 교체한 것으로 전해졌다.\n",
            "target: It has been reported that North Korea recently replaced three chief military leaders.\n",
            "inference: It is heard that North Korea is leading the third place in the ruling party to the army.\n",
            "\n",
            "input: 그가 장기적 타임 프레임보다 단기적 타임 프레임을 선호하는 이유다.\n",
            "target: That ' s why he prefers short - term timeframes over long term timeframes.\n",
            "inference: This is why he prefery short - term retirement that he is short - term than a short term.\n",
            "\n",
            "input: 고승형의 가창력과 감정 표현은 이미 정평이 나있다.\n",
            "target: Ko Seung - hyun ' s singing and expressing emotions are already well known.\n",
            "inference: The passionate expression of the Dream trainer is already well - known.\n",
            "\n",
            "input: 몸 상태가 온전하지 않아도 출전을 거르지 않는다.\n",
            "target: Even if your body is not intact, do not go out.\n",
            "inference: I don ' t have a hard time to play because my body is not in a physical condition.\n",
            "\n",
            "input: 그는 이미 놀라운 회복력을 선보였던 전례가 있다.\n",
            "target: He has a precedent that has already demonstrated incredible resilience.\n",
            "inference: He has already been full of amazing driving skills.\n",
            "\n",
            "input: 그 성과는 이미 300만 시민 모두가 알고 있습니다.\n",
            "target: The achievement is already known to all three million citizens.\n",
            "inference: Everyone all 300 citizens know that achievement.\n",
            "\n",
            "input: 같은 검사를 놓고 다른 결과가 나온 것이다.\n",
            "target: The same test came out with different results\n",
            "inference: The results of different results came out over the same test.\n",
            "\n",
            "input: 훗날 그의 친구들이 원고를 모아 책으로 펴냈다.\n",
            "target: Later, his friends collected manuscripts and published it in a book.\n",
            "inference: Later, he / she led his friends to a bookletter.\n",
            "\n",
            "input: 지그시 감고 있던 내 눈앞에 파노라마 같은 환상이 펼쳐졌다.\n",
            "target: A panoramic vision was unfolded before my eyes, which had been gently closed.\n",
            "inference: The wave of Jin Long - hee, who was in the spotlight, was held in front of my eyes.\n",
            "\n",
            "input: 문재인 정부가 이를 중대한 과제로 받아들여야 할 시점이다.\n",
            "target: It ' s time for the Moon Jae - in government to regard this as a critical task.\n",
            "inference: It will be a review of the Moon Jae - in government that had been under the president.\n",
            "\n",
            "input: 이때 영역별 문제풀이 학습이 큰 도움이 됐다.\n",
            "target: At this time, solving problems by area was very helpful.\n",
            "inference: At this time, it helped the learning method of learning that is harmful to the area.\n",
            "\n",
            "input: 증권거래세율도 한국이 다른 나라에 비해 높은 편이다.\n",
            "target: Compared to other countries, the stock exchange tax rate in Korea is high.\n",
            "inference: Korea has a higher share of its countries than that of the securities diagnostle.\n",
            "\n",
            "input: 기아 역시 뚜렷한 필승조가 잡혀 있지 않다.\n",
            "target: Kia is also not caught in a clear triumph.\n",
            "inference: Ki Sung - yueng is not caught even though he was a clear.\n",
            "\n",
            "input: 송재림의 이런 글에는 수많은 칭찬 댓글이 달렸다.\n",
            "target: Song Jae - rim ' s comments have numerous praise responses.\n",
            "inference: There were numerous praisey about Song Myung - myung ' s article.\n",
            "\n",
            "input: 왜냐하면 무료 서비스란, “ 우리가 당신을 감시할 수 있게 해주면 대신 당신은 무료로 서비스를 받을 수 있다 ” 는 뜻이라서다.\n",
            "target: Because free service means, \" If you let us keep an eye on you, you can get free service instead.\"\n",
            "inference: Because free service can be paid free, we can receive free service instead of free service.\n",
            "\n",
            "input: 디지털 화폐 시장이 급성장하는 신호탄이 될 것입니다.\n",
            "target: This will also signal the rapid growth of electronic money market.\n",
            "inference: The digital refrigerator market will be a signal.\n",
            "\n",
            "input: 정부의 활성화 방침에도 인가 반납이 이어지고 있다.\n",
            "target: Despite the government ' s revitalization policy, approval returns have continued.\n",
            "inference: The government ' s policy to revitalize government is continuing.\n",
            "\n",
            "input: 구명조끼를 착용하지 않으면 과태료 100만원 등 처벌수위가 높다.\n",
            "target: If you do not wear a life jacket, the penalty is high, such as a penalty fee of 1 million won.\n",
            "inference: If you don ' t wear a coupon or cancet jacket, you ' ll have a high degree of punishment.\n",
            "\n",
            "input: 구글 번역 홈페이지를 위장한 피싱 공격이 등장했다.\n",
            "target: A phishing attack disguised as a Google Translate homepage has emerged.\n",
            "inference: Award of feedback, which means Google ' s website, appeared.\n",
            "\n",
            "input: 법인세는 더 이상 올려서 유지하기가 쉽지 않다.\n",
            "target: Corporate taxes are not easy to raise and maintain any more.\n",
            "inference: The more interesting the necessities, the more difficult it is to maintain.\n",
            "\n",
            "input: 제가 그런 작품을 좀 자주 했던 것 같다.\n",
            "target: I think I did that kind of work quite often.\n",
            "inference: I think I ' ve been a little frequent for such a work.\n",
            "\n",
            "input: 한국에서 이혼하고 피지에 들어온 독신 여성의 눈치가 보였기 때문이다.\n",
            "target: This is because I noticed a single woman who had gotten divorced in Korea and came to Fiji.\n",
            "inference: This is because women ' s favorite women ' s favorite homeland is looking for a snow - by - chief.\n",
            "\n",
            "input: 청와대가 보다 구체적이고 공식적인 제안을 해야 한다고 주장한다.\n",
            "target: They argue that Cheong Wa Dae should make a more specific and formal proposal.\n",
            "inference: Cheong Wa Dae arguey that the proposal should be proposed more specific and formal proposal.\n",
            "\n",
            "input: 스트뢰에에는 많은 카페들이 있는데 가격 차이는 크지 않습니다.\n",
            "target: There are many cafes in Stroget, but the price difference is not that big.\n",
            "inference: There are many cafes in the Coffee, but the price is not big.\n",
            "\n",
            "input: 이날 본회의는 상임위별 심사가 지연되면서 늦게 열렸다.\n",
            "target: The plenary session was held late as the standing committee review was delayed.\n",
            "inference: As the planned substitute of the plenary session on the plenary session was delayed, the special stage was held.\n",
            "\n",
            "input: 이어 등장한 신영수씨는 가수 이적과 닮은 외모가 인상적이었다.\n",
            "target: Shin Young - soo, who then appeared, was impressive with his appearance resembling singer Lee Jeok.\n",
            "inference: Shin Ah - ah then has raised the impression of appearing by singer Shin Jin - jin.\n",
            "\n",
            "input: 구구단 세정과 배우 하지원이 예능 속 워맨스를 펼친다.\n",
            "target: The Gugudan Se - jeong and actress Ha Ji - won perform a womance in entertainment.\n",
            "inference: An actor Ha Eun - ho will play an entertainment show at a entertainment show.\n",
            "\n",
            "input: 김씨는 자신의 아이가 먹은 것까지 같이 계산하려 했습니다.\n",
            "target: Kim tried to pay for what his / her child ate.\n",
            "inference: Kim tried to do together until his child was eating.\n",
            "\n",
            "input: 대회가 다가오며 시작되는 무리한 체중 감량이 그 원인이다.\n",
            "target: Unreasonable weight loss, which begins as the competition approaches.\n",
            "inference: This is the cause of the dispute that is gradually exhausted after the competition begins.\n",
            "\n",
            "input: 박씨의 쇠수레엔 100l 봉투가 매번 가득 쌓였다.\n",
            "target: Mr. Park ' s carts were filled with 100l bags each time.\n",
            "inference: Park ' s metaly were filled with the surfacey of 100 wiperical every time.\n",
            "\n",
            "input: 참고로 문제의 질이 좋은 문제집이란 기출문제집을 말한다.\n",
            "target: For your information, a good - quality workbook is a collection of past questions.\n",
            "inference: In the case of reference, a good problem of the stereotyps is a stereotyps restaurant.\n",
            "\n",
            "input: 해외 인터넷은행은 산업자본의 투입 통로가 열려 있다.\n",
            "target: Foreign Internet banks are open to industrial capital injections.\n",
            "inference: There is a creation of the use of industrial medical science, which is on the Internet.\n",
            "\n",
            "input: 할 때는 몰랐는데 지나고 보니 운이 좋았다.\n",
            "target: I didn ' t know when I was doing it, but I was lucky in hindsight.\n",
            "inference: It was lucky that I didn ' t know when I didn ' t do it.\n",
            "\n",
            "input: 영부인 자리를 내놓게 된 게 아쉬워서 그랬던 건 아니었다.\n",
            "target: It wasn ' t because I felt sorry for giving up the first lady ' s position.\n",
            "inference: It was not because I was sorry for the first time I came to celebrate the table.\n",
            "\n",
            "input: 뮤지, 윤상, 윤일상, 스윗스로우가 참석해 포토타임을 갖고 있다.\n",
            "target: Muzie, Yoon Sang, Yoon Il - sang, and Sweet Sorrow are attending and having photo time.\n",
            "inference: It is a trademark that Yoon So - woo, Yoon Doo - woo, Yoon Doo - woo and Kang - woo are in the spotlight.\n",
            "\n",
            "input: 마타, 내가 모든 걸 다 맡아서 하겠다.\n",
            "target: Martha, I ' ll take care of everything.\n",
            "inference: I ' ll all have everything I ' ve done.\n",
            "\n",
            "input: 많은 의미를 갖고 있는 만큼 괄목할 만한 결과물이 나오지 않으면 후폭풍 또한 거셀 수 있다는 점이다.\n",
            "target: As it means so much, if there is no remarkable result, the after - storm may also be strong.\n",
            "inference: As many of the characters are meaningful, it is also that they may have been saved after the results.\n",
            "\n",
            "input: 가수 겸 배우 김현중이 기존 소속사 키이스트와 재계약을 체결했다.\n",
            "target: Singer and actor Kim Hyun - joong has signed a re - contract with his existing agency KeyEast.\n",
            "inference: Singer and actor Kim Hyun - joong signed an exclusive contract with his existing agency.\n",
            "\n",
            "input: 장르를 떠나서 연기하는 게 너무 좋았을 때였다.\n",
            "target: It was the time when I just loved acting regardless of genres.\n",
            "inference: It is too good to play as a genre.\n",
            "\n",
            "input: 신규 주택구입이 이어지면서 대출이 늘었기 때문으로 분석됐다.\n",
            "target: Analysts attributed the increase to a rise in loans as new home purchases.\n",
            "inference: Analysts attributed the increase in loans as new housing is increasing.\n",
            "\n",
            "input: 서둘지 않고 차근차근한 것이 마지막에 결과를 만들었다.\n",
            "target: Step by step, without a rush, we made a good result at the end.\n",
            "inference: The final results of the storm went smoothly without a footstep.\n",
            "\n",
            "input: 항상 산업현장과 연결돼 있었던 덕분에 DNA자체가 현장 기술자다.\n",
            "target: The DNA itself is a field engineer because it has always been connected to the industrial site.\n",
            "inference: Thanks to the industrial complex, DC1 technology was always associated with industrial accidents.\n",
            "\n",
            "input: 아직까지 확인하지 못한 농장에서 구제역이 발생할 수 있기 때문이다.\n",
            "target: This is because foot - and - mouth disease can occur at farms that have yet to be identified.\n",
            "inference: This is because the station area may not be identified so far.\n",
            "\n",
            "input: 차선을 이탈하거나 전방 추돌이 예상되면 경고음도 울린다.\n",
            "target: A warning tone will also sound if the lane is deviated or a forward collision is expected.\n",
            "inference: The unexpected passenger seat has been warned of unexpected and the unexpected passenger seat.\n",
            "\n",
            "input: 피해 학생들이 다니고 있는 초등학교는 31일까지 휴교할 방침이다.\n",
            "target: The elementary school where the victims are attending will be closed until the 31st.\n",
            "inference: The rest of the victims with the victim is closed until 31st.\n",
            "\n",
            "input: 최은지가 6득점을 기록하며 제 몫을 했으나 한계가 뚜렷했다.\n",
            "target: Choi Eun - ji did her part by scoring six points, but the limit was clear.\n",
            "inference: Choi Jin - ji had a limit to winning six points and was clear.\n",
            "\n",
            "input: 사건 현장에서 함께 연기지도를 받던 목격자가 있었다.\n",
            "target: There was a witness at the scene of the incident who was being guided on acting together.\n",
            "inference: There was a written person in the field while acting.\n",
            "\n",
            "input: 프로배구 플레이오프가 19일로 막을 내리며 챔피언결정전 대진표가 완성됐다.\n",
            "target: The professional volleyball playoff ended on the 19th and the championship draw was completed.\n",
            "inference: The championship battle was completed smoothly at the 19th of the match collaboration.\n",
            "\n",
            "input: 걸그룹 파나틱스의 유닛 플레이버가 새로운 매력을 뽐낸다.\n",
            "target: Unit Flavor of girl group Fanatics shows off new charm.\n",
            "inference: Eugene Ray ' s chemistry as girl group Fanasium will be featured new charmy.\n",
            "\n",
            "input: 경찰은 디지털 포렌식을 통해 해당 진술이 사실인지 확인하고 있다.\n",
            "target: The police are using digital forensics to verify if the statement is true.\n",
            "inference: The police are checking whether the deleted statement is true through digital gifts.\n",
            "\n",
            "input: 솜씨가 수준급인 최씨의 담박한 그림이 곁들여져 읽는 맛을 더한다.\n",
            "target: Candid drawing of skillful artist Choi is garnished to add the taste of reading.\n",
            "inference: Candey Su - ra ' s paintings of the lazymeates the taste of the web - garnisa.\n",
            "\n",
            "input: 이후 미드에서 벌어진 전투에서 정지훈의 이렐리아가 2킬을 쌓았다.\n",
            "target: Later, at the fight in the middle field, Jung Ji - hoon ' s Irelia earned 2 kills.\n",
            "inference: Since then, the two units of the battley have passed and have reached two units.\n",
            "\n",
            "input: 왜냐하면 우리의 마음이 하나님을 닮아서 너무 크기 때문이다.\n",
            "target: For our hearts are too large as they resemble God.\n",
            "inference: This is because our hands are too large as we resemble our mind.\n",
            "\n",
            "input: 올해 1분기 출생아 수가 역대 최저를 기록했다.\n",
            "target: The number of births in the first quarter of this year was the lowest of all time.\n",
            "inference: The number of birthy for the first time this year was the lowest ever.\n",
            "\n",
            "input: 어떤 목회 현장보다 따뜻하고, 안정적이고, 감사가 넘쳤다.\n",
            "target: It was warmer, more stable, and more thankful than any pastoral field.\n",
            "inference: It warmed up space, stability, stability, stability, and gratitude were full.\n",
            "\n",
            "input: 이날 1라운드 두 번째 대결에서는 조커와 프랑켄슈타인이 맞붙었다.\n",
            "target: Joker and Frankenstein faced each other for the second battle in the first round.\n",
            "inference: In the second round of the day, Jos - ri would be the one who won the match.\n",
            "\n",
            "input: 김씨의 입장문은 김씨를 변호하고 있는 정혜선 변호사가 대독했다.\n",
            "target: Kim ' s statement was read by lawyer Jung Hye - seon who defends Kim.\n",
            "inference: Kim ' s position was confiscated by a lawyer who lawyer Kim ' s lawyer.\n",
            "\n",
            "input: 최저임금 정책 하나에 소득주도성장론 전체가 침몰할 위기다.\n",
            "target: The entire theory of income - led growth is in danger of sinking on one minimum wage policy.\n",
            "inference: The entire national policy that has been given a minimum wage policy is a real - time crisis.\n",
            "\n",
            "input: 무용계 아카데미상을 수상한 발레무용가 박세은에 많은 관심이 쏠리고 있다.\n",
            "target: Park Se - eun, a ballet dancer who won the Academy of Dance Award, is gaining a lot of attention.\n",
            "inference: Park Jin - jin is paying much attention to the award of losing the elegance with Adtainment.\n",
            "\n",
            "input: 우리에게는 북한의 협상전술까지 고려한 포괄적 전략이 없었다.\n",
            "target: We didn ' t have a comprehensive strategy that considered North Korea ' s tactics.\n",
            "inference: There was no strategy to consider whether we considered North Korea ' s negotiating negotiation strategy.\n",
            "\n",
            "input: 사고로 A씨가 상처를 입었고, 차 앞범퍼 오른쪽 부분이 파손됐다.\n",
            "target: A was injured in an accident and the right side bumper of the car was damaged.\n",
            "inference: A violent earthquake was expressed in the accident, but the room was booed down in front of Mr. A ' s car.\n",
            "\n",
            "input: 이날 토론회에서는 디지털세에 대한 다양한 의견이 도출됐다.\n",
            "target: Various opinions on digital tax were drawn up at the forum.\n",
            "inference: Various opinions were expressed on the premise of the digital stock.\n",
            "\n",
            "input: 작품이 나올 때마다 새로운 시도를 확장해가며 스스로도 레벨업했다.\n",
            "target: Every time a work came out, he leveled himself up by expanding new attempts.\n",
            "inference: Every time Bitcoin came out, the company expanded its own attempt to expand its new attempt.\n",
            "\n",
            "input: 다행히 다른 거주자들이 즉시 대피해 인명피해는 없었다.\n",
            "target: Fortunately, other residents were immediately evacuated, and there was no damage to their lives.\n",
            "inference: Fortunately, other people were immediately evacuated immediately, but there was no key.\n"
          ]
        },
        {
          "output_type": "stream",
          "name": "stderr",
          "text": [
            "\n"
          ]
        }
      ]
    }
  ],
  "metadata": {
    "accelerator": "GPU",
    "colab": {
      "gpuType": "L4",
      "machine_shape": "hm",
      "provenance": []
    },
    "kernelspec": {
      "display_name": "Python 3",
      "name": "python3"
    },
    "language_info": {
      "codemirror_mode": {
        "name": "ipython",
        "version": 3
      },
      "file_extension": ".py",
      "mimetype": "text/x-python",
      "name": "python",
      "nbconvert_exporter": "python",
      "pygments_lexer": "ipython3",
      "version": "3.10.14"
    }
  },
  "nbformat": 4,
  "nbformat_minor": 0
}